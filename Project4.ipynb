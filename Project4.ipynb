{
  "nbformat": 4,
  "nbformat_minor": 0,
  "metadata": {
    "colab": {
      "provenance": [],
      "gpuType": "V28",
      "authorship_tag": "ABX9TyNG+ImGIfjYYTxLmhSYUB02",
      "include_colab_link": true
    },
    "kernelspec": {
      "name": "python3",
      "display_name": "Python 3"
    },
    "language_info": {
      "name": "python"
    },
    "accelerator": "TPU"
  },
  "cells": [
    {
      "cell_type": "markdown",
      "metadata": {
        "id": "view-in-github",
        "colab_type": "text"
      },
      "source": [
        "<a href=\"https://colab.research.google.com/github/TranDucLongAIDHSPKTHY/DemoMovies/blob/main/Project4.ipynb\" target=\"_parent\"><img src=\"https://colab.research.google.com/assets/colab-badge.svg\" alt=\"Open In Colab\"/></a>"
      ]
    },
    {
      "cell_type": "code",
      "source": [
        "import tensorflow as tf\n",
        "import tensorflow_datasets as tfds\n",
        "import numpy as np\n",
        "import pandas as pd\n",
        "import matplotlib.pyplot as plt\n",
        "from PIL import Image\n",
        "import requests\n",
        "from io import BytesIO"
      ],
      "metadata": {
        "id": "OnH220lsSj_r"
      },
      "execution_count": 1,
      "outputs": []
    },
    {
      "cell_type": "code",
      "source": [
        "from google.colab import drive\n",
        "drive.mount('/content/drive')"
      ],
      "metadata": {
        "colab": {
          "base_uri": "https://localhost:8080/"
        },
        "id": "NDJaiiVTSj8y",
        "outputId": "90e186fa-d540-4918-f5b9-293e02fe8e8d"
      },
      "execution_count": 2,
      "outputs": [
        {
          "output_type": "stream",
          "name": "stdout",
          "text": [
            "Mounted at /content/drive\n"
          ]
        }
      ]
    },
    {
      "cell_type": "code",
      "source": [
        "import plotly.express as px\n",
        "import plotly.offline as pyo"
      ],
      "metadata": {
        "id": "lM7k9J32Sj5h"
      },
      "execution_count": 3,
      "outputs": []
    },
    {
      "cell_type": "code",
      "source": [
        "file_path = '/content/drive/My Drive/Project4_Trần Đức Long_124211/TMDB_movie_2024.csv'\n",
        "movies = pd.read_csv(file_path)\n",
        "movies.tail()"
      ],
      "metadata": {
        "colab": {
          "base_uri": "https://localhost:8080/",
          "height": 499
        },
        "id": "CIX6CwYGSj2d",
        "outputId": "78e7dbd7-154c-47aa-d199-d4594c9d93e2"
      },
      "execution_count": 4,
      "outputs": [
        {
          "output_type": "execute_result",
          "data": {
            "text/plain": [
              "              id                   title  vote_average  vote_count    status  \\\n",
              "1083867   707377         Kirare no Senta           0.0           0  Released   \n",
              "1083868   707381             Sciuscià 70           0.0           0  Released   \n",
              "1083869   707383           Sextape vol.1           0.0           0  Released   \n",
              "1083870   707385            Devil's Gold           0.0           0  Released   \n",
              "1083871  1336565  The Pain Is Not Enough           0.0           0  Released   \n",
              "\n",
              "        release_date  revenue  runtime  adult  \\\n",
              "1083867   1949-04-05        0       95  False   \n",
              "1083868   2016-10-09        0       60  False   \n",
              "1083869   2016-01-01        0        0   True   \n",
              "1083870   1950-02-19        0      111  False   \n",
              "1083871   2010-08-01        0        0   True   \n",
              "\n",
              "                            backdrop_path  ...          original_title  \\\n",
              "1083867  /zhe2QDYvUITxAu7Bdi2kuXz6AWh.jpg  ...                  斬られの仙太   \n",
              "1083868  /fEfEa6u1AnrE3fgPqbhAuvvJEGG.jpg  ...             Sciuscià 70   \n",
              "1083869                               NaN  ...           Sextape vol.1   \n",
              "1083870                               NaN  ...                    魔の黄金   \n",
              "1083871                               NaN  ...  The Pain Is Not Enough   \n",
              "\n",
              "                                                  overview popularity  \\\n",
              "1083867                        Directed by Eisuke Takizawa      0.961   \n",
              "1083868  \"Shoeshine 70\" is a documentary directed by Mi...      0.846   \n",
              "1083869                                                NaN      0.600   \n",
              "1083870      1950 Toho film directed by Senkichi Taniguchi      1.590   \n",
              "1083871  For all the thrill and power of women to prese...      0.000   \n",
              "\n",
              "                              poster_path                 tagline  \\\n",
              "1083867  /oqsqiTr36Xn9FlcdZaOIo3AVMbf.jpg                     NaN   \n",
              "1083868  /jLc6D7MQjrRdYFbCxrdkW1I3J1h.jpg                     NaN   \n",
              "1083869  /6YiM2pTfdXUPpx22Edz3caOAQIP.jpg                     NaN   \n",
              "1083870                               NaN                     NaN   \n",
              "1083871  /wqXOsCQshMO0dL6sjKXAJtVv87I.jpg  The Pain Is Not Enough   \n",
              "\n",
              "                 genres            production_companies production_countries  \\\n",
              "1083867  Drama, History                            TOHO                Japan   \n",
              "1083868     Documentary  Scena Set, Visioni e Illusioni                Italy   \n",
              "1083869             NaN                France Interdite                  NaN   \n",
              "1083870   Drama, Action                            TOHO                Japan   \n",
              "1083871             NaN             Bon Vue Enterprises                  NaN   \n",
              "\n",
              "        spoken_languages keywords  \n",
              "1083867         Japanese      NaN  \n",
              "1083868          Italian      NaN  \n",
              "1083869           French      NaN  \n",
              "1083870         Japanese      NaN  \n",
              "1083871              NaN      NaN  \n",
              "\n",
              "[5 rows x 24 columns]"
            ],
            "text/html": [
              "\n",
              "  <div id=\"df-ad9c66d0-10c2-4474-800d-593eaaf61ff7\" class=\"colab-df-container\">\n",
              "    <div>\n",
              "<style scoped>\n",
              "    .dataframe tbody tr th:only-of-type {\n",
              "        vertical-align: middle;\n",
              "    }\n",
              "\n",
              "    .dataframe tbody tr th {\n",
              "        vertical-align: top;\n",
              "    }\n",
              "\n",
              "    .dataframe thead th {\n",
              "        text-align: right;\n",
              "    }\n",
              "</style>\n",
              "<table border=\"1\" class=\"dataframe\">\n",
              "  <thead>\n",
              "    <tr style=\"text-align: right;\">\n",
              "      <th></th>\n",
              "      <th>id</th>\n",
              "      <th>title</th>\n",
              "      <th>vote_average</th>\n",
              "      <th>vote_count</th>\n",
              "      <th>status</th>\n",
              "      <th>release_date</th>\n",
              "      <th>revenue</th>\n",
              "      <th>runtime</th>\n",
              "      <th>adult</th>\n",
              "      <th>backdrop_path</th>\n",
              "      <th>...</th>\n",
              "      <th>original_title</th>\n",
              "      <th>overview</th>\n",
              "      <th>popularity</th>\n",
              "      <th>poster_path</th>\n",
              "      <th>tagline</th>\n",
              "      <th>genres</th>\n",
              "      <th>production_companies</th>\n",
              "      <th>production_countries</th>\n",
              "      <th>spoken_languages</th>\n",
              "      <th>keywords</th>\n",
              "    </tr>\n",
              "  </thead>\n",
              "  <tbody>\n",
              "    <tr>\n",
              "      <th>1083867</th>\n",
              "      <td>707377</td>\n",
              "      <td>Kirare no Senta</td>\n",
              "      <td>0.0</td>\n",
              "      <td>0</td>\n",
              "      <td>Released</td>\n",
              "      <td>1949-04-05</td>\n",
              "      <td>0</td>\n",
              "      <td>95</td>\n",
              "      <td>False</td>\n",
              "      <td>/zhe2QDYvUITxAu7Bdi2kuXz6AWh.jpg</td>\n",
              "      <td>...</td>\n",
              "      <td>斬られの仙太</td>\n",
              "      <td>Directed by Eisuke Takizawa</td>\n",
              "      <td>0.961</td>\n",
              "      <td>/oqsqiTr36Xn9FlcdZaOIo3AVMbf.jpg</td>\n",
              "      <td>NaN</td>\n",
              "      <td>Drama, History</td>\n",
              "      <td>TOHO</td>\n",
              "      <td>Japan</td>\n",
              "      <td>Japanese</td>\n",
              "      <td>NaN</td>\n",
              "    </tr>\n",
              "    <tr>\n",
              "      <th>1083868</th>\n",
              "      <td>707381</td>\n",
              "      <td>Sciuscià 70</td>\n",
              "      <td>0.0</td>\n",
              "      <td>0</td>\n",
              "      <td>Released</td>\n",
              "      <td>2016-10-09</td>\n",
              "      <td>0</td>\n",
              "      <td>60</td>\n",
              "      <td>False</td>\n",
              "      <td>/fEfEa6u1AnrE3fgPqbhAuvvJEGG.jpg</td>\n",
              "      <td>...</td>\n",
              "      <td>Sciuscià 70</td>\n",
              "      <td>\"Shoeshine 70\" is a documentary directed by Mi...</td>\n",
              "      <td>0.846</td>\n",
              "      <td>/jLc6D7MQjrRdYFbCxrdkW1I3J1h.jpg</td>\n",
              "      <td>NaN</td>\n",
              "      <td>Documentary</td>\n",
              "      <td>Scena Set, Visioni e Illusioni</td>\n",
              "      <td>Italy</td>\n",
              "      <td>Italian</td>\n",
              "      <td>NaN</td>\n",
              "    </tr>\n",
              "    <tr>\n",
              "      <th>1083869</th>\n",
              "      <td>707383</td>\n",
              "      <td>Sextape vol.1</td>\n",
              "      <td>0.0</td>\n",
              "      <td>0</td>\n",
              "      <td>Released</td>\n",
              "      <td>2016-01-01</td>\n",
              "      <td>0</td>\n",
              "      <td>0</td>\n",
              "      <td>True</td>\n",
              "      <td>NaN</td>\n",
              "      <td>...</td>\n",
              "      <td>Sextape vol.1</td>\n",
              "      <td>NaN</td>\n",
              "      <td>0.600</td>\n",
              "      <td>/6YiM2pTfdXUPpx22Edz3caOAQIP.jpg</td>\n",
              "      <td>NaN</td>\n",
              "      <td>NaN</td>\n",
              "      <td>France Interdite</td>\n",
              "      <td>NaN</td>\n",
              "      <td>French</td>\n",
              "      <td>NaN</td>\n",
              "    </tr>\n",
              "    <tr>\n",
              "      <th>1083870</th>\n",
              "      <td>707385</td>\n",
              "      <td>Devil's Gold</td>\n",
              "      <td>0.0</td>\n",
              "      <td>0</td>\n",
              "      <td>Released</td>\n",
              "      <td>1950-02-19</td>\n",
              "      <td>0</td>\n",
              "      <td>111</td>\n",
              "      <td>False</td>\n",
              "      <td>NaN</td>\n",
              "      <td>...</td>\n",
              "      <td>魔の黄金</td>\n",
              "      <td>1950 Toho film directed by Senkichi Taniguchi</td>\n",
              "      <td>1.590</td>\n",
              "      <td>NaN</td>\n",
              "      <td>NaN</td>\n",
              "      <td>Drama, Action</td>\n",
              "      <td>TOHO</td>\n",
              "      <td>Japan</td>\n",
              "      <td>Japanese</td>\n",
              "      <td>NaN</td>\n",
              "    </tr>\n",
              "    <tr>\n",
              "      <th>1083871</th>\n",
              "      <td>1336565</td>\n",
              "      <td>The Pain Is Not Enough</td>\n",
              "      <td>0.0</td>\n",
              "      <td>0</td>\n",
              "      <td>Released</td>\n",
              "      <td>2010-08-01</td>\n",
              "      <td>0</td>\n",
              "      <td>0</td>\n",
              "      <td>True</td>\n",
              "      <td>NaN</td>\n",
              "      <td>...</td>\n",
              "      <td>The Pain Is Not Enough</td>\n",
              "      <td>For all the thrill and power of women to prese...</td>\n",
              "      <td>0.000</td>\n",
              "      <td>/wqXOsCQshMO0dL6sjKXAJtVv87I.jpg</td>\n",
              "      <td>The Pain Is Not Enough</td>\n",
              "      <td>NaN</td>\n",
              "      <td>Bon Vue Enterprises</td>\n",
              "      <td>NaN</td>\n",
              "      <td>NaN</td>\n",
              "      <td>NaN</td>\n",
              "    </tr>\n",
              "  </tbody>\n",
              "</table>\n",
              "<p>5 rows × 24 columns</p>\n",
              "</div>\n",
              "    <div class=\"colab-df-buttons\">\n",
              "\n",
              "  <div class=\"colab-df-container\">\n",
              "    <button class=\"colab-df-convert\" onclick=\"convertToInteractive('df-ad9c66d0-10c2-4474-800d-593eaaf61ff7')\"\n",
              "            title=\"Convert this dataframe to an interactive table.\"\n",
              "            style=\"display:none;\">\n",
              "\n",
              "  <svg xmlns=\"http://www.w3.org/2000/svg\" height=\"24px\" viewBox=\"0 -960 960 960\">\n",
              "    <path d=\"M120-120v-720h720v720H120Zm60-500h600v-160H180v160Zm220 220h160v-160H400v160Zm0 220h160v-160H400v160ZM180-400h160v-160H180v160Zm440 0h160v-160H620v160ZM180-180h160v-160H180v160Zm440 0h160v-160H620v160Z\"/>\n",
              "  </svg>\n",
              "    </button>\n",
              "\n",
              "  <style>\n",
              "    .colab-df-container {\n",
              "      display:flex;\n",
              "      gap: 12px;\n",
              "    }\n",
              "\n",
              "    .colab-df-convert {\n",
              "      background-color: #E8F0FE;\n",
              "      border: none;\n",
              "      border-radius: 50%;\n",
              "      cursor: pointer;\n",
              "      display: none;\n",
              "      fill: #1967D2;\n",
              "      height: 32px;\n",
              "      padding: 0 0 0 0;\n",
              "      width: 32px;\n",
              "    }\n",
              "\n",
              "    .colab-df-convert:hover {\n",
              "      background-color: #E2EBFA;\n",
              "      box-shadow: 0px 1px 2px rgba(60, 64, 67, 0.3), 0px 1px 3px 1px rgba(60, 64, 67, 0.15);\n",
              "      fill: #174EA6;\n",
              "    }\n",
              "\n",
              "    .colab-df-buttons div {\n",
              "      margin-bottom: 4px;\n",
              "    }\n",
              "\n",
              "    [theme=dark] .colab-df-convert {\n",
              "      background-color: #3B4455;\n",
              "      fill: #D2E3FC;\n",
              "    }\n",
              "\n",
              "    [theme=dark] .colab-df-convert:hover {\n",
              "      background-color: #434B5C;\n",
              "      box-shadow: 0px 1px 3px 1px rgba(0, 0, 0, 0.15);\n",
              "      filter: drop-shadow(0px 1px 2px rgba(0, 0, 0, 0.3));\n",
              "      fill: #FFFFFF;\n",
              "    }\n",
              "  </style>\n",
              "\n",
              "    <script>\n",
              "      const buttonEl =\n",
              "        document.querySelector('#df-ad9c66d0-10c2-4474-800d-593eaaf61ff7 button.colab-df-convert');\n",
              "      buttonEl.style.display =\n",
              "        google.colab.kernel.accessAllowed ? 'block' : 'none';\n",
              "\n",
              "      async function convertToInteractive(key) {\n",
              "        const element = document.querySelector('#df-ad9c66d0-10c2-4474-800d-593eaaf61ff7');\n",
              "        const dataTable =\n",
              "          await google.colab.kernel.invokeFunction('convertToInteractive',\n",
              "                                                    [key], {});\n",
              "        if (!dataTable) return;\n",
              "\n",
              "        const docLinkHtml = 'Like what you see? Visit the ' +\n",
              "          '<a target=\"_blank\" href=https://colab.research.google.com/notebooks/data_table.ipynb>data table notebook</a>'\n",
              "          + ' to learn more about interactive tables.';\n",
              "        element.innerHTML = '';\n",
              "        dataTable['output_type'] = 'display_data';\n",
              "        await google.colab.output.renderOutput(dataTable, element);\n",
              "        const docLink = document.createElement('div');\n",
              "        docLink.innerHTML = docLinkHtml;\n",
              "        element.appendChild(docLink);\n",
              "      }\n",
              "    </script>\n",
              "  </div>\n",
              "\n",
              "\n",
              "<div id=\"df-7d6d84b3-3f30-44ac-942e-03baaff008a4\">\n",
              "  <button class=\"colab-df-quickchart\" onclick=\"quickchart('df-7d6d84b3-3f30-44ac-942e-03baaff008a4')\"\n",
              "            title=\"Suggest charts\"\n",
              "            style=\"display:none;\">\n",
              "\n",
              "<svg xmlns=\"http://www.w3.org/2000/svg\" height=\"24px\"viewBox=\"0 0 24 24\"\n",
              "     width=\"24px\">\n",
              "    <g>\n",
              "        <path d=\"M19 3H5c-1.1 0-2 .9-2 2v14c0 1.1.9 2 2 2h14c1.1 0 2-.9 2-2V5c0-1.1-.9-2-2-2zM9 17H7v-7h2v7zm4 0h-2V7h2v10zm4 0h-2v-4h2v4z\"/>\n",
              "    </g>\n",
              "</svg>\n",
              "  </button>\n",
              "\n",
              "<style>\n",
              "  .colab-df-quickchart {\n",
              "      --bg-color: #E8F0FE;\n",
              "      --fill-color: #1967D2;\n",
              "      --hover-bg-color: #E2EBFA;\n",
              "      --hover-fill-color: #174EA6;\n",
              "      --disabled-fill-color: #AAA;\n",
              "      --disabled-bg-color: #DDD;\n",
              "  }\n",
              "\n",
              "  [theme=dark] .colab-df-quickchart {\n",
              "      --bg-color: #3B4455;\n",
              "      --fill-color: #D2E3FC;\n",
              "      --hover-bg-color: #434B5C;\n",
              "      --hover-fill-color: #FFFFFF;\n",
              "      --disabled-bg-color: #3B4455;\n",
              "      --disabled-fill-color: #666;\n",
              "  }\n",
              "\n",
              "  .colab-df-quickchart {\n",
              "    background-color: var(--bg-color);\n",
              "    border: none;\n",
              "    border-radius: 50%;\n",
              "    cursor: pointer;\n",
              "    display: none;\n",
              "    fill: var(--fill-color);\n",
              "    height: 32px;\n",
              "    padding: 0;\n",
              "    width: 32px;\n",
              "  }\n",
              "\n",
              "  .colab-df-quickchart:hover {\n",
              "    background-color: var(--hover-bg-color);\n",
              "    box-shadow: 0 1px 2px rgba(60, 64, 67, 0.3), 0 1px 3px 1px rgba(60, 64, 67, 0.15);\n",
              "    fill: var(--button-hover-fill-color);\n",
              "  }\n",
              "\n",
              "  .colab-df-quickchart-complete:disabled,\n",
              "  .colab-df-quickchart-complete:disabled:hover {\n",
              "    background-color: var(--disabled-bg-color);\n",
              "    fill: var(--disabled-fill-color);\n",
              "    box-shadow: none;\n",
              "  }\n",
              "\n",
              "  .colab-df-spinner {\n",
              "    border: 2px solid var(--fill-color);\n",
              "    border-color: transparent;\n",
              "    border-bottom-color: var(--fill-color);\n",
              "    animation:\n",
              "      spin 1s steps(1) infinite;\n",
              "  }\n",
              "\n",
              "  @keyframes spin {\n",
              "    0% {\n",
              "      border-color: transparent;\n",
              "      border-bottom-color: var(--fill-color);\n",
              "      border-left-color: var(--fill-color);\n",
              "    }\n",
              "    20% {\n",
              "      border-color: transparent;\n",
              "      border-left-color: var(--fill-color);\n",
              "      border-top-color: var(--fill-color);\n",
              "    }\n",
              "    30% {\n",
              "      border-color: transparent;\n",
              "      border-left-color: var(--fill-color);\n",
              "      border-top-color: var(--fill-color);\n",
              "      border-right-color: var(--fill-color);\n",
              "    }\n",
              "    40% {\n",
              "      border-color: transparent;\n",
              "      border-right-color: var(--fill-color);\n",
              "      border-top-color: var(--fill-color);\n",
              "    }\n",
              "    60% {\n",
              "      border-color: transparent;\n",
              "      border-right-color: var(--fill-color);\n",
              "    }\n",
              "    80% {\n",
              "      border-color: transparent;\n",
              "      border-right-color: var(--fill-color);\n",
              "      border-bottom-color: var(--fill-color);\n",
              "    }\n",
              "    90% {\n",
              "      border-color: transparent;\n",
              "      border-bottom-color: var(--fill-color);\n",
              "    }\n",
              "  }\n",
              "</style>\n",
              "\n",
              "  <script>\n",
              "    async function quickchart(key) {\n",
              "      const quickchartButtonEl =\n",
              "        document.querySelector('#' + key + ' button');\n",
              "      quickchartButtonEl.disabled = true;  // To prevent multiple clicks.\n",
              "      quickchartButtonEl.classList.add('colab-df-spinner');\n",
              "      try {\n",
              "        const charts = await google.colab.kernel.invokeFunction(\n",
              "            'suggestCharts', [key], {});\n",
              "      } catch (error) {\n",
              "        console.error('Error during call to suggestCharts:', error);\n",
              "      }\n",
              "      quickchartButtonEl.classList.remove('colab-df-spinner');\n",
              "      quickchartButtonEl.classList.add('colab-df-quickchart-complete');\n",
              "    }\n",
              "    (() => {\n",
              "      let quickchartButtonEl =\n",
              "        document.querySelector('#df-7d6d84b3-3f30-44ac-942e-03baaff008a4 button');\n",
              "      quickchartButtonEl.style.display =\n",
              "        google.colab.kernel.accessAllowed ? 'block' : 'none';\n",
              "    })();\n",
              "  </script>\n",
              "</div>\n",
              "\n",
              "    </div>\n",
              "  </div>\n"
            ],
            "application/vnd.google.colaboratory.intrinsic+json": {
              "type": "dataframe"
            }
          },
          "metadata": {},
          "execution_count": 4
        }
      ]
    },
    {
      "cell_type": "markdown",
      "source": [
        "\n",
        "\n",
        "1. id: mã định danh cho mỗi phim\n",
        "2. title: tiêu đề\n",
        "3. vote_average: bình chọn trung bình\n",
        "4. vote_count: số phiếu bầu\n",
        "5. status: trạng thái\n",
        "6. release_date: ngày phát hành\n",
        "7. revenue: doanh thu\n",
        "8. runtime: thời gian\n",
        "9. adult: người lớn\n",
        "10. backdrop_path: URL hình ảnh nền cho bộ phim\n",
        "11. budget: ngân sách\n",
        "12. homepage: URL trang chủ\n",
        "13. imdb_id: ID IDMb của bộ phim\n",
        "14. original_language: ngôn ngữ gốc\n",
        "15. original_title: tiêu đề gốc\n",
        "16. overview: tổng quan\n",
        "17. popularity: sự phổ biến\n",
        "18. poster_path:URL của hình ảnh\n",
        "19. tagline: câu nói đáng nhớ liên quan đến bộ phim\n",
        "20. genres: thể\n",
        "21. production_companies: công ty sản xuất\n",
        "22. production_countries: quốc gia sản xuất\n",
        "23. spoken_languages: các ngôn ngữ được nói trong phim\n",
        "24. keywords: từ khóa\n",
        "\n"
      ],
      "metadata": {
        "id": "pCcM3d5Dvuyg"
      }
    },
    {
      "cell_type": "code",
      "source": [
        "movies.iloc[1]"
      ],
      "metadata": {
        "colab": {
          "base_uri": "https://localhost:8080/",
          "height": 837
        },
        "id": "LhJt7Ly_SjzZ",
        "outputId": "aa748316-92c3-4de9-d745-d6f6e9c33d7f"
      },
      "execution_count": 5,
      "outputs": [
        {
          "output_type": "execute_result",
          "data": {
            "text/plain": [
              "id                                                                 157336\n",
              "title                                                        Interstellar\n",
              "vote_average                                                        8.417\n",
              "vote_count                                                          32571\n",
              "status                                                           Released\n",
              "release_date                                                   2014-11-05\n",
              "revenue                                                         701729206\n",
              "runtime                                                               169\n",
              "adult                                                               False\n",
              "backdrop_path                            /pbrkL804c8yAv3zBZR4QPEafpAR.jpg\n",
              "budget                                                          165000000\n",
              "homepage                                http://www.interstellarmovie.net/\n",
              "imdb_id                                                         tt0816692\n",
              "original_language                                                      en\n",
              "original_title                                               Interstellar\n",
              "overview                The adventures of a group of explorers who mak...\n",
              "popularity                                                        140.241\n",
              "poster_path                              /gEU2QniE6E77NI6lCU6MxlNBvIx.jpg\n",
              "tagline                 Mankind was born on Earth. It was never meant ...\n",
              "genres                                  Adventure, Drama, Science Fiction\n",
              "production_companies    Legendary Pictures, Syncopy, Lynda Obst Produc...\n",
              "production_countries             United Kingdom, United States of America\n",
              "spoken_languages                                                  English\n",
              "keywords                rescue, future, spacecraft, race against time,...\n",
              "Name: 1, dtype: object"
            ],
            "text/html": [
              "<div>\n",
              "<style scoped>\n",
              "    .dataframe tbody tr th:only-of-type {\n",
              "        vertical-align: middle;\n",
              "    }\n",
              "\n",
              "    .dataframe tbody tr th {\n",
              "        vertical-align: top;\n",
              "    }\n",
              "\n",
              "    .dataframe thead th {\n",
              "        text-align: right;\n",
              "    }\n",
              "</style>\n",
              "<table border=\"1\" class=\"dataframe\">\n",
              "  <thead>\n",
              "    <tr style=\"text-align: right;\">\n",
              "      <th></th>\n",
              "      <th>1</th>\n",
              "    </tr>\n",
              "  </thead>\n",
              "  <tbody>\n",
              "    <tr>\n",
              "      <th>id</th>\n",
              "      <td>157336</td>\n",
              "    </tr>\n",
              "    <tr>\n",
              "      <th>title</th>\n",
              "      <td>Interstellar</td>\n",
              "    </tr>\n",
              "    <tr>\n",
              "      <th>vote_average</th>\n",
              "      <td>8.417</td>\n",
              "    </tr>\n",
              "    <tr>\n",
              "      <th>vote_count</th>\n",
              "      <td>32571</td>\n",
              "    </tr>\n",
              "    <tr>\n",
              "      <th>status</th>\n",
              "      <td>Released</td>\n",
              "    </tr>\n",
              "    <tr>\n",
              "      <th>release_date</th>\n",
              "      <td>2014-11-05</td>\n",
              "    </tr>\n",
              "    <tr>\n",
              "      <th>revenue</th>\n",
              "      <td>701729206</td>\n",
              "    </tr>\n",
              "    <tr>\n",
              "      <th>runtime</th>\n",
              "      <td>169</td>\n",
              "    </tr>\n",
              "    <tr>\n",
              "      <th>adult</th>\n",
              "      <td>False</td>\n",
              "    </tr>\n",
              "    <tr>\n",
              "      <th>backdrop_path</th>\n",
              "      <td>/pbrkL804c8yAv3zBZR4QPEafpAR.jpg</td>\n",
              "    </tr>\n",
              "    <tr>\n",
              "      <th>budget</th>\n",
              "      <td>165000000</td>\n",
              "    </tr>\n",
              "    <tr>\n",
              "      <th>homepage</th>\n",
              "      <td>http://www.interstellarmovie.net/</td>\n",
              "    </tr>\n",
              "    <tr>\n",
              "      <th>imdb_id</th>\n",
              "      <td>tt0816692</td>\n",
              "    </tr>\n",
              "    <tr>\n",
              "      <th>original_language</th>\n",
              "      <td>en</td>\n",
              "    </tr>\n",
              "    <tr>\n",
              "      <th>original_title</th>\n",
              "      <td>Interstellar</td>\n",
              "    </tr>\n",
              "    <tr>\n",
              "      <th>overview</th>\n",
              "      <td>The adventures of a group of explorers who mak...</td>\n",
              "    </tr>\n",
              "    <tr>\n",
              "      <th>popularity</th>\n",
              "      <td>140.241</td>\n",
              "    </tr>\n",
              "    <tr>\n",
              "      <th>poster_path</th>\n",
              "      <td>/gEU2QniE6E77NI6lCU6MxlNBvIx.jpg</td>\n",
              "    </tr>\n",
              "    <tr>\n",
              "      <th>tagline</th>\n",
              "      <td>Mankind was born on Earth. It was never meant ...</td>\n",
              "    </tr>\n",
              "    <tr>\n",
              "      <th>genres</th>\n",
              "      <td>Adventure, Drama, Science Fiction</td>\n",
              "    </tr>\n",
              "    <tr>\n",
              "      <th>production_companies</th>\n",
              "      <td>Legendary Pictures, Syncopy, Lynda Obst Produc...</td>\n",
              "    </tr>\n",
              "    <tr>\n",
              "      <th>production_countries</th>\n",
              "      <td>United Kingdom, United States of America</td>\n",
              "    </tr>\n",
              "    <tr>\n",
              "      <th>spoken_languages</th>\n",
              "      <td>English</td>\n",
              "    </tr>\n",
              "    <tr>\n",
              "      <th>keywords</th>\n",
              "      <td>rescue, future, spacecraft, race against time,...</td>\n",
              "    </tr>\n",
              "  </tbody>\n",
              "</table>\n",
              "</div><br><label><b>dtype:</b> object</label>"
            ]
          },
          "metadata": {},
          "execution_count": 5
        }
      ]
    },
    {
      "cell_type": "code",
      "source": [
        "movies.shape"
      ],
      "metadata": {
        "colab": {
          "base_uri": "https://localhost:8080/"
        },
        "id": "hv0sPE4WSjwe",
        "outputId": "e4b83e1a-afb9-464e-b550-8136624e44da"
      },
      "execution_count": 6,
      "outputs": [
        {
          "output_type": "execute_result",
          "data": {
            "text/plain": [
              "(1083872, 24)"
            ]
          },
          "metadata": {},
          "execution_count": 6
        }
      ]
    },
    {
      "cell_type": "code",
      "source": [
        "movies.info()"
      ],
      "metadata": {
        "colab": {
          "base_uri": "https://localhost:8080/"
        },
        "id": "R7Or0iI1Sjts",
        "outputId": "b3ec1432-4b1d-42fd-9eb6-e060b821cf0d"
      },
      "execution_count": 7,
      "outputs": [
        {
          "output_type": "stream",
          "name": "stdout",
          "text": [
            "<class 'pandas.core.frame.DataFrame'>\n",
            "RangeIndex: 1083872 entries, 0 to 1083871\n",
            "Data columns (total 24 columns):\n",
            " #   Column                Non-Null Count    Dtype  \n",
            "---  ------                --------------    -----  \n",
            " 0   id                    1083872 non-null  int64  \n",
            " 1   title                 1083859 non-null  object \n",
            " 2   vote_average          1083872 non-null  float64\n",
            " 3   vote_count            1083872 non-null  int64  \n",
            " 4   status                1083872 non-null  object \n",
            " 5   release_date          925075 non-null   object \n",
            " 6   revenue               1083872 non-null  int64  \n",
            " 7   runtime               1083872 non-null  int64  \n",
            " 8   adult                 1083872 non-null  bool   \n",
            " 9   backdrop_path         293817 non-null   object \n",
            " 10  budget                1083872 non-null  int64  \n",
            " 11  homepage              116323 non-null   object \n",
            " 12  imdb_id               591231 non-null   object \n",
            " 13  original_language     1083872 non-null  object \n",
            " 14  original_title        1083859 non-null  object \n",
            " 15  overview              875022 non-null   object \n",
            " 16  popularity            1083872 non-null  float64\n",
            " 17  poster_path           757280 non-null   object \n",
            " 18  tagline               153713 non-null   object \n",
            " 19  genres                662456 non-null   object \n",
            " 20  production_companies  498545 non-null   object \n",
            " 21  production_countries  617951 non-null   object \n",
            " 22  spoken_languages      634541 non-null   object \n",
            " 23  keywords              301121 non-null   object \n",
            "dtypes: bool(1), float64(2), int64(5), object(16)\n",
            "memory usage: 191.2+ MB\n"
          ]
        }
      ]
    },
    {
      "cell_type": "code",
      "source": [
        "# Kiểm tra các giá trị thiếu\n",
        "print(movies.isnull().sum())"
      ],
      "metadata": {
        "colab": {
          "base_uri": "https://localhost:8080/"
        },
        "id": "zYUnW4J5Sjqr",
        "outputId": "d0799e16-15f8-40e6-d622-41ef82abae0a"
      },
      "execution_count": 8,
      "outputs": [
        {
          "output_type": "stream",
          "name": "stdout",
          "text": [
            "id                           0\n",
            "title                       13\n",
            "vote_average                 0\n",
            "vote_count                   0\n",
            "status                       0\n",
            "release_date            158797\n",
            "revenue                      0\n",
            "runtime                      0\n",
            "adult                        0\n",
            "backdrop_path           790055\n",
            "budget                       0\n",
            "homepage                967549\n",
            "imdb_id                 492641\n",
            "original_language            0\n",
            "original_title              13\n",
            "overview                208850\n",
            "popularity                   0\n",
            "poster_path             326592\n",
            "tagline                 930159\n",
            "genres                  421416\n",
            "production_companies    585327\n",
            "production_countries    465921\n",
            "spoken_languages        449331\n",
            "keywords                782751\n",
            "dtype: int64\n"
          ]
        }
      ]
    },
    {
      "cell_type": "code",
      "source": [
        "# Kiểm tra các giá trị trùng lặp\n",
        "print(movies.duplicated().sum())"
      ],
      "metadata": {
        "colab": {
          "base_uri": "https://localhost:8080/"
        },
        "id": "aP84EILlSjns",
        "outputId": "82e79bd9-801c-4b51-babd-4722f0855256"
      },
      "execution_count": 9,
      "outputs": [
        {
          "output_type": "stream",
          "name": "stdout",
          "text": [
            "365\n"
          ]
        }
      ]
    },
    {
      "cell_type": "markdown",
      "source": [
        "# Xử lý missing"
      ],
      "metadata": {
        "id": "dzNNr0uz1m1G"
      }
    },
    {
      "cell_type": "code",
      "source": [
        "movies['release_date'].fillna('Unknown', inplace=True)\n",
        "movies['backdrop_path'].fillna('No backdrop', inplace=True)\n",
        "movies['overview'].fillna('No description', inplace=True)\n",
        "movies['poster_path'].fillna('No poster', inplace=True)\n",
        "movies['genres'].fillna('Unknown', inplace=True)\n",
        "movies['production_companies'].fillna('Unknown', inplace=True)\n",
        "movies['production_countries'].fillna('Unknown', inplace=True)\n",
        "movies['spoken_languages'].fillna('Unknown', inplace=True)\n",
        "movies['keywords'].fillna('No keywords', inplace=True)\n"
      ],
      "metadata": {
        "id": "OWmCOBY6Sjks"
      },
      "execution_count": 5,
      "outputs": []
    },
    {
      "cell_type": "code",
      "source": [
        "# Các cột không cần thiết\n",
        "columns_to_drop = ['homepage','imdb_id','poster_path','tagline']\n",
        "\n",
        "# Loại bỏ các cột không cần thiết\n",
        "movies = movies.drop(columns=columns_to_drop)"
      ],
      "metadata": {
        "id": "3GzZjC-eSjhg"
      },
      "execution_count": 6,
      "outputs": []
    },
    {
      "cell_type": "markdown",
      "source": [
        "Loại bỏ hàng ( vì số lượng giá trị null nhỏ)"
      ],
      "metadata": {
        "id": "sgjXt1vS2M6A"
      }
    },
    {
      "cell_type": "code",
      "source": [
        "movies.dropna(subset=['title'], inplace=True)\n",
        "movies.dropna(subset=['original_title'], inplace=True)"
      ],
      "metadata": {
        "id": "tNCg86c7Sjek"
      },
      "execution_count": 7,
      "outputs": []
    },
    {
      "cell_type": "markdown",
      "source": [
        "# Xử lý duplicate"
      ],
      "metadata": {
        "id": "KxmoMree2f_0"
      }
    },
    {
      "cell_type": "code",
      "source": [
        "movies = movies.drop_duplicates()"
      ],
      "metadata": {
        "id": "_64v-gReSjbE"
      },
      "execution_count": 8,
      "outputs": []
    },
    {
      "cell_type": "markdown",
      "source": [
        "**Check**"
      ],
      "metadata": {
        "id": "fcWQaIiR2raY"
      }
    },
    {
      "cell_type": "code",
      "source": [
        "print(movies.isnull().sum())"
      ],
      "metadata": {
        "colab": {
          "base_uri": "https://localhost:8080/"
        },
        "id": "RRST19tMSjYO",
        "outputId": "9fa4111a-f924-4e64-ee84-a91d2c474652"
      },
      "execution_count": 14,
      "outputs": [
        {
          "output_type": "stream",
          "name": "stdout",
          "text": [
            "id                      0\n",
            "title                   0\n",
            "vote_average            0\n",
            "vote_count              0\n",
            "status                  0\n",
            "release_date            0\n",
            "revenue                 0\n",
            "runtime                 0\n",
            "adult                   0\n",
            "backdrop_path           0\n",
            "budget                  0\n",
            "original_language       0\n",
            "original_title          0\n",
            "overview                0\n",
            "popularity              0\n",
            "genres                  0\n",
            "production_companies    0\n",
            "production_countries    0\n",
            "spoken_languages        0\n",
            "keywords                0\n",
            "dtype: int64\n"
          ]
        }
      ]
    },
    {
      "cell_type": "code",
      "source": [
        "print(movies.duplicated().sum())"
      ],
      "metadata": {
        "colab": {
          "base_uri": "https://localhost:8080/"
        },
        "id": "d514P266SjVG",
        "outputId": "8d555573-440b-4236-eb0c-dcf649fd00ce"
      },
      "execution_count": 15,
      "outputs": [
        {
          "output_type": "stream",
          "name": "stdout",
          "text": [
            "0\n"
          ]
        }
      ]
    },
    {
      "cell_type": "code",
      "source": [
        "print(movies.info())"
      ],
      "metadata": {
        "colab": {
          "base_uri": "https://localhost:8080/"
        },
        "id": "vOQRO_TWSjSA",
        "outputId": "19f7615d-cb2d-46db-9539-f57a8259e7b8"
      },
      "execution_count": 16,
      "outputs": [
        {
          "output_type": "stream",
          "name": "stdout",
          "text": [
            "<class 'pandas.core.frame.DataFrame'>\n",
            "Index: 1083493 entries, 0 to 1083871\n",
            "Data columns (total 20 columns):\n",
            " #   Column                Non-Null Count    Dtype  \n",
            "---  ------                --------------    -----  \n",
            " 0   id                    1083493 non-null  int64  \n",
            " 1   title                 1083493 non-null  object \n",
            " 2   vote_average          1083493 non-null  float64\n",
            " 3   vote_count            1083493 non-null  int64  \n",
            " 4   status                1083493 non-null  object \n",
            " 5   release_date          1083493 non-null  object \n",
            " 6   revenue               1083493 non-null  int64  \n",
            " 7   runtime               1083493 non-null  int64  \n",
            " 8   adult                 1083493 non-null  bool   \n",
            " 9   backdrop_path         1083493 non-null  object \n",
            " 10  budget                1083493 non-null  int64  \n",
            " 11  original_language     1083493 non-null  object \n",
            " 12  original_title        1083493 non-null  object \n",
            " 13  overview              1083493 non-null  object \n",
            " 14  popularity            1083493 non-null  float64\n",
            " 15  genres                1083493 non-null  object \n",
            " 16  production_companies  1083493 non-null  object \n",
            " 17  production_countries  1083493 non-null  object \n",
            " 18  spoken_languages      1083493 non-null  object \n",
            " 19  keywords              1083493 non-null  object \n",
            "dtypes: bool(1), float64(2), int64(5), object(12)\n",
            "memory usage: 166.4+ MB\n",
            "None\n"
          ]
        }
      ]
    },
    {
      "cell_type": "code",
      "source": [
        "movies['genres'][0]"
      ],
      "metadata": {
        "colab": {
          "base_uri": "https://localhost:8080/",
          "height": 35
        },
        "id": "fu0MTKQRSjLy",
        "outputId": "abec3ed3-1384-4829-b0e0-7ad96e9227ca"
      },
      "execution_count": 17,
      "outputs": [
        {
          "output_type": "execute_result",
          "data": {
            "text/plain": [
              "'Action, Science Fiction, Adventure'"
            ],
            "application/vnd.google.colaboratory.intrinsic+json": {
              "type": "string"
            }
          },
          "metadata": {},
          "execution_count": 17
        }
      ]
    },
    {
      "cell_type": "code",
      "source": [
        "movies['overview'][30]"
      ],
      "metadata": {
        "colab": {
          "base_uri": "https://localhost:8080/",
          "height": 105
        },
        "id": "cBiz4fGjU_gq",
        "outputId": "bef9a275-82b2-45ac-ad36-0a496053ae93"
      },
      "execution_count": 18,
      "outputs": [
        {
          "output_type": "execute_result",
          "data": {
            "text/plain": [
              "'In Nazi-occupied France during World War II, a group of Jewish-American soldiers known as \"The Basterds\" are chosen specifically to spread fear throughout the Third Reich by scalping and brutally killing Nazis. The Basterds, lead by Lt. Aldo Raine soon cross paths with a French-Jewish teenage girl who runs a movie theater in Paris which is targeted by the soldiers.'"
            ],
            "application/vnd.google.colaboratory.intrinsic+json": {
              "type": "string"
            }
          },
          "metadata": {},
          "execution_count": 18
        }
      ]
    },
    {
      "cell_type": "code",
      "source": [
        "movies['keywords'][30]"
      ],
      "metadata": {
        "colab": {
          "base_uri": "https://localhost:8080/",
          "height": 70
        },
        "id": "NGO8CJr0Hfm6",
        "outputId": "f7019cc7-f465-4cba-b1a8-82b85ded69e7"
      },
      "execution_count": 19,
      "outputs": [
        {
          "output_type": "execute_result",
          "data": {
            "text/plain": [
              "'guerrilla warfare, swastika, paris, france, nazi, self sacrifice, sadism, dynamite, mexican standoff, world war ii, jew persecution, masochism, anti-semitism, german occupation of france, british politics, revisionist history, adolf hitler'"
            ],
            "application/vnd.google.colaboratory.intrinsic+json": {
              "type": "string"
            }
          },
          "metadata": {},
          "execution_count": 19
        }
      ]
    },
    {
      "cell_type": "markdown",
      "source": [
        "Loại bỏ các ký tự đặc biệt"
      ],
      "metadata": {
        "id": "J6hMcZvtV3Kb"
      }
    },
    {
      "cell_type": "code",
      "source": [
        "movies['overview'] = movies['overview'].replace({r'\\\\\"': '\"', r\"\\\\'\": \"'\", r'\"': ''}, regex=True)\n"
      ],
      "metadata": {
        "id": "hZtDEWzWVz-6"
      },
      "execution_count": 9,
      "outputs": []
    },
    {
      "cell_type": "code",
      "source": [
        "# Loại bỏ khoảng trắng dư thừa\n",
        "movies['overview'] = movies['overview'].str.strip()"
      ],
      "metadata": {
        "id": "-ogoQ3WhWTFS"
      },
      "execution_count": 10,
      "outputs": []
    },
    {
      "cell_type": "code",
      "source": [
        "movies['overview'][30]"
      ],
      "metadata": {
        "colab": {
          "base_uri": "https://localhost:8080/",
          "height": 105
        },
        "id": "De1dHNByV98e",
        "outputId": "d886580a-49bb-4cfe-e3b3-d24bb854feb4"
      },
      "execution_count": 22,
      "outputs": [
        {
          "output_type": "execute_result",
          "data": {
            "text/plain": [
              "'In Nazi-occupied France during World War II, a group of Jewish-American soldiers known as The Basterds are chosen specifically to spread fear throughout the Third Reich by scalping and brutally killing Nazis. The Basterds, lead by Lt. Aldo Raine soon cross paths with a French-Jewish teenage girl who runs a movie theater in Paris which is targeted by the soldiers.'"
            ],
            "application/vnd.google.colaboratory.intrinsic+json": {
              "type": "string"
            }
          },
          "metadata": {},
          "execution_count": 22
        }
      ]
    },
    {
      "cell_type": "code",
      "source": [
        "from sklearn.feature_extraction.text import TfidfVectorizer\n",
        "from sklearn.metrics.pairwise import cosine_similarity\n",
        "import nltk\n",
        "from nltk.corpus import stopwords\n",
        "from nltk.tokenize import word_tokenize\n",
        "nltk.download('punkt')\n",
        "nltk.download('stopwords')"
      ],
      "metadata": {
        "colab": {
          "base_uri": "https://localhost:8080/"
        },
        "id": "3k4A-MqdJgeY",
        "outputId": "c8563850-72f4-47f9-bdac-3ce2064c2f2c"
      },
      "execution_count": 11,
      "outputs": [
        {
          "output_type": "stream",
          "name": "stderr",
          "text": [
            "[nltk_data] Downloading package punkt to /root/nltk_data...\n",
            "[nltk_data]   Unzipping tokenizers/punkt.zip.\n",
            "[nltk_data] Downloading package stopwords to /root/nltk_data...\n",
            "[nltk_data]   Unzipping corpora/stopwords.zip.\n"
          ]
        },
        {
          "output_type": "execute_result",
          "data": {
            "text/plain": [
              "True"
            ]
          },
          "metadata": {},
          "execution_count": 11
        }
      ]
    },
    {
      "cell_type": "markdown",
      "source": [
        "Các đặc trưng văn bản thường có các dấu hiệu như sau:\n",
        "- Chứa các đoạn văn bản dài hoặc ngắn.\n",
        "- Có định dạng là chuỗi ký tự.\n",
        "- Thường chứa các từ khóa hoặc cụm từ có ý nghĩa cụ thể liên quan đến nội dung (ví dụ: mô tả phim, thể loại phim, ...)."
      ],
      "metadata": {
        "id": "A3Ym3djjXv9a"
      }
    },
    {
      "cell_type": "code",
      "source": [
        "# Gộp các cột genres, keywords, overview lại với nhau\n",
        "movies['tags'] = movies['genres'] + ' ' + movies['keywords']+ ' ' + movies['overview']"
      ],
      "metadata": {
        "id": "oMznBczZJgur"
      },
      "execution_count": 12,
      "outputs": []
    },
    {
      "cell_type": "code",
      "source": [
        "new_df = movies[['title', 'tags']]"
      ],
      "metadata": {
        "id": "D7OOZI_bX_2f"
      },
      "execution_count": 25,
      "outputs": []
    },
    {
      "cell_type": "code",
      "source": [
        "new_df.head()"
      ],
      "metadata": {
        "colab": {
          "base_uri": "https://localhost:8080/",
          "height": 206
        },
        "id": "yrfJjtTGJUo5",
        "outputId": "865588cf-76da-4b0e-fce4-a548d26b7dc4"
      },
      "execution_count": 26,
      "outputs": [
        {
          "output_type": "execute_result",
          "data": {
            "text/plain": [
              "             title                                               tags\n",
              "0        Inception  Action, Science Fiction, Adventure rescue, mis...\n",
              "1     Interstellar  Adventure, Drama, Science Fiction rescue, futu...\n",
              "2  The Dark Knight  Drama, Action, Crime, Thriller joker, sadism, ...\n",
              "3           Avatar  Action, Adventure, Fantasy, Science Fiction fu...\n",
              "4     The Avengers  Science Fiction, Action, Adventure new york ci..."
            ],
            "text/html": [
              "\n",
              "  <div id=\"df-a83d0d18-6531-4341-bacd-820f302eeb34\" class=\"colab-df-container\">\n",
              "    <div>\n",
              "<style scoped>\n",
              "    .dataframe tbody tr th:only-of-type {\n",
              "        vertical-align: middle;\n",
              "    }\n",
              "\n",
              "    .dataframe tbody tr th {\n",
              "        vertical-align: top;\n",
              "    }\n",
              "\n",
              "    .dataframe thead th {\n",
              "        text-align: right;\n",
              "    }\n",
              "</style>\n",
              "<table border=\"1\" class=\"dataframe\">\n",
              "  <thead>\n",
              "    <tr style=\"text-align: right;\">\n",
              "      <th></th>\n",
              "      <th>title</th>\n",
              "      <th>tags</th>\n",
              "    </tr>\n",
              "  </thead>\n",
              "  <tbody>\n",
              "    <tr>\n",
              "      <th>0</th>\n",
              "      <td>Inception</td>\n",
              "      <td>Action, Science Fiction, Adventure rescue, mis...</td>\n",
              "    </tr>\n",
              "    <tr>\n",
              "      <th>1</th>\n",
              "      <td>Interstellar</td>\n",
              "      <td>Adventure, Drama, Science Fiction rescue, futu...</td>\n",
              "    </tr>\n",
              "    <tr>\n",
              "      <th>2</th>\n",
              "      <td>The Dark Knight</td>\n",
              "      <td>Drama, Action, Crime, Thriller joker, sadism, ...</td>\n",
              "    </tr>\n",
              "    <tr>\n",
              "      <th>3</th>\n",
              "      <td>Avatar</td>\n",
              "      <td>Action, Adventure, Fantasy, Science Fiction fu...</td>\n",
              "    </tr>\n",
              "    <tr>\n",
              "      <th>4</th>\n",
              "      <td>The Avengers</td>\n",
              "      <td>Science Fiction, Action, Adventure new york ci...</td>\n",
              "    </tr>\n",
              "  </tbody>\n",
              "</table>\n",
              "</div>\n",
              "    <div class=\"colab-df-buttons\">\n",
              "\n",
              "  <div class=\"colab-df-container\">\n",
              "    <button class=\"colab-df-convert\" onclick=\"convertToInteractive('df-a83d0d18-6531-4341-bacd-820f302eeb34')\"\n",
              "            title=\"Convert this dataframe to an interactive table.\"\n",
              "            style=\"display:none;\">\n",
              "\n",
              "  <svg xmlns=\"http://www.w3.org/2000/svg\" height=\"24px\" viewBox=\"0 -960 960 960\">\n",
              "    <path d=\"M120-120v-720h720v720H120Zm60-500h600v-160H180v160Zm220 220h160v-160H400v160Zm0 220h160v-160H400v160ZM180-400h160v-160H180v160Zm440 0h160v-160H620v160ZM180-180h160v-160H180v160Zm440 0h160v-160H620v160Z\"/>\n",
              "  </svg>\n",
              "    </button>\n",
              "\n",
              "  <style>\n",
              "    .colab-df-container {\n",
              "      display:flex;\n",
              "      gap: 12px;\n",
              "    }\n",
              "\n",
              "    .colab-df-convert {\n",
              "      background-color: #E8F0FE;\n",
              "      border: none;\n",
              "      border-radius: 50%;\n",
              "      cursor: pointer;\n",
              "      display: none;\n",
              "      fill: #1967D2;\n",
              "      height: 32px;\n",
              "      padding: 0 0 0 0;\n",
              "      width: 32px;\n",
              "    }\n",
              "\n",
              "    .colab-df-convert:hover {\n",
              "      background-color: #E2EBFA;\n",
              "      box-shadow: 0px 1px 2px rgba(60, 64, 67, 0.3), 0px 1px 3px 1px rgba(60, 64, 67, 0.15);\n",
              "      fill: #174EA6;\n",
              "    }\n",
              "\n",
              "    .colab-df-buttons div {\n",
              "      margin-bottom: 4px;\n",
              "    }\n",
              "\n",
              "    [theme=dark] .colab-df-convert {\n",
              "      background-color: #3B4455;\n",
              "      fill: #D2E3FC;\n",
              "    }\n",
              "\n",
              "    [theme=dark] .colab-df-convert:hover {\n",
              "      background-color: #434B5C;\n",
              "      box-shadow: 0px 1px 3px 1px rgba(0, 0, 0, 0.15);\n",
              "      filter: drop-shadow(0px 1px 2px rgba(0, 0, 0, 0.3));\n",
              "      fill: #FFFFFF;\n",
              "    }\n",
              "  </style>\n",
              "\n",
              "    <script>\n",
              "      const buttonEl =\n",
              "        document.querySelector('#df-a83d0d18-6531-4341-bacd-820f302eeb34 button.colab-df-convert');\n",
              "      buttonEl.style.display =\n",
              "        google.colab.kernel.accessAllowed ? 'block' : 'none';\n",
              "\n",
              "      async function convertToInteractive(key) {\n",
              "        const element = document.querySelector('#df-a83d0d18-6531-4341-bacd-820f302eeb34');\n",
              "        const dataTable =\n",
              "          await google.colab.kernel.invokeFunction('convertToInteractive',\n",
              "                                                    [key], {});\n",
              "        if (!dataTable) return;\n",
              "\n",
              "        const docLinkHtml = 'Like what you see? Visit the ' +\n",
              "          '<a target=\"_blank\" href=https://colab.research.google.com/notebooks/data_table.ipynb>data table notebook</a>'\n",
              "          + ' to learn more about interactive tables.';\n",
              "        element.innerHTML = '';\n",
              "        dataTable['output_type'] = 'display_data';\n",
              "        await google.colab.output.renderOutput(dataTable, element);\n",
              "        const docLink = document.createElement('div');\n",
              "        docLink.innerHTML = docLinkHtml;\n",
              "        element.appendChild(docLink);\n",
              "      }\n",
              "    </script>\n",
              "  </div>\n",
              "\n",
              "\n",
              "<div id=\"df-a66d9fa6-e48f-4712-baf0-6e78ff31cb1c\">\n",
              "  <button class=\"colab-df-quickchart\" onclick=\"quickchart('df-a66d9fa6-e48f-4712-baf0-6e78ff31cb1c')\"\n",
              "            title=\"Suggest charts\"\n",
              "            style=\"display:none;\">\n",
              "\n",
              "<svg xmlns=\"http://www.w3.org/2000/svg\" height=\"24px\"viewBox=\"0 0 24 24\"\n",
              "     width=\"24px\">\n",
              "    <g>\n",
              "        <path d=\"M19 3H5c-1.1 0-2 .9-2 2v14c0 1.1.9 2 2 2h14c1.1 0 2-.9 2-2V5c0-1.1-.9-2-2-2zM9 17H7v-7h2v7zm4 0h-2V7h2v10zm4 0h-2v-4h2v4z\"/>\n",
              "    </g>\n",
              "</svg>\n",
              "  </button>\n",
              "\n",
              "<style>\n",
              "  .colab-df-quickchart {\n",
              "      --bg-color: #E8F0FE;\n",
              "      --fill-color: #1967D2;\n",
              "      --hover-bg-color: #E2EBFA;\n",
              "      --hover-fill-color: #174EA6;\n",
              "      --disabled-fill-color: #AAA;\n",
              "      --disabled-bg-color: #DDD;\n",
              "  }\n",
              "\n",
              "  [theme=dark] .colab-df-quickchart {\n",
              "      --bg-color: #3B4455;\n",
              "      --fill-color: #D2E3FC;\n",
              "      --hover-bg-color: #434B5C;\n",
              "      --hover-fill-color: #FFFFFF;\n",
              "      --disabled-bg-color: #3B4455;\n",
              "      --disabled-fill-color: #666;\n",
              "  }\n",
              "\n",
              "  .colab-df-quickchart {\n",
              "    background-color: var(--bg-color);\n",
              "    border: none;\n",
              "    border-radius: 50%;\n",
              "    cursor: pointer;\n",
              "    display: none;\n",
              "    fill: var(--fill-color);\n",
              "    height: 32px;\n",
              "    padding: 0;\n",
              "    width: 32px;\n",
              "  }\n",
              "\n",
              "  .colab-df-quickchart:hover {\n",
              "    background-color: var(--hover-bg-color);\n",
              "    box-shadow: 0 1px 2px rgba(60, 64, 67, 0.3), 0 1px 3px 1px rgba(60, 64, 67, 0.15);\n",
              "    fill: var(--button-hover-fill-color);\n",
              "  }\n",
              "\n",
              "  .colab-df-quickchart-complete:disabled,\n",
              "  .colab-df-quickchart-complete:disabled:hover {\n",
              "    background-color: var(--disabled-bg-color);\n",
              "    fill: var(--disabled-fill-color);\n",
              "    box-shadow: none;\n",
              "  }\n",
              "\n",
              "  .colab-df-spinner {\n",
              "    border: 2px solid var(--fill-color);\n",
              "    border-color: transparent;\n",
              "    border-bottom-color: var(--fill-color);\n",
              "    animation:\n",
              "      spin 1s steps(1) infinite;\n",
              "  }\n",
              "\n",
              "  @keyframes spin {\n",
              "    0% {\n",
              "      border-color: transparent;\n",
              "      border-bottom-color: var(--fill-color);\n",
              "      border-left-color: var(--fill-color);\n",
              "    }\n",
              "    20% {\n",
              "      border-color: transparent;\n",
              "      border-left-color: var(--fill-color);\n",
              "      border-top-color: var(--fill-color);\n",
              "    }\n",
              "    30% {\n",
              "      border-color: transparent;\n",
              "      border-left-color: var(--fill-color);\n",
              "      border-top-color: var(--fill-color);\n",
              "      border-right-color: var(--fill-color);\n",
              "    }\n",
              "    40% {\n",
              "      border-color: transparent;\n",
              "      border-right-color: var(--fill-color);\n",
              "      border-top-color: var(--fill-color);\n",
              "    }\n",
              "    60% {\n",
              "      border-color: transparent;\n",
              "      border-right-color: var(--fill-color);\n",
              "    }\n",
              "    80% {\n",
              "      border-color: transparent;\n",
              "      border-right-color: var(--fill-color);\n",
              "      border-bottom-color: var(--fill-color);\n",
              "    }\n",
              "    90% {\n",
              "      border-color: transparent;\n",
              "      border-bottom-color: var(--fill-color);\n",
              "    }\n",
              "  }\n",
              "</style>\n",
              "\n",
              "  <script>\n",
              "    async function quickchart(key) {\n",
              "      const quickchartButtonEl =\n",
              "        document.querySelector('#' + key + ' button');\n",
              "      quickchartButtonEl.disabled = true;  // To prevent multiple clicks.\n",
              "      quickchartButtonEl.classList.add('colab-df-spinner');\n",
              "      try {\n",
              "        const charts = await google.colab.kernel.invokeFunction(\n",
              "            'suggestCharts', [key], {});\n",
              "      } catch (error) {\n",
              "        console.error('Error during call to suggestCharts:', error);\n",
              "      }\n",
              "      quickchartButtonEl.classList.remove('colab-df-spinner');\n",
              "      quickchartButtonEl.classList.add('colab-df-quickchart-complete');\n",
              "    }\n",
              "    (() => {\n",
              "      let quickchartButtonEl =\n",
              "        document.querySelector('#df-a66d9fa6-e48f-4712-baf0-6e78ff31cb1c button');\n",
              "      quickchartButtonEl.style.display =\n",
              "        google.colab.kernel.accessAllowed ? 'block' : 'none';\n",
              "    })();\n",
              "  </script>\n",
              "</div>\n",
              "\n",
              "    </div>\n",
              "  </div>\n"
            ],
            "application/vnd.google.colaboratory.intrinsic+json": {
              "type": "dataframe",
              "variable_name": "new_df"
            }
          },
          "metadata": {},
          "execution_count": 26
        }
      ]
    },
    {
      "cell_type": "code",
      "source": [
        "new_df.to_csv('new_df.csv', index=False)"
      ],
      "metadata": {
        "id": "EGW8A2mwI8LX"
      },
      "execution_count": 27,
      "outputs": []
    },
    {
      "cell_type": "code",
      "source": [
        "file_path = '/content/drive/My Drive/Project4_Trần Đức Long_124211/new_df.csv'\n",
        "new_df = pd.read_csv(file_path)\n",
        "new_df.head()"
      ],
      "metadata": {
        "colab": {
          "base_uri": "https://localhost:8080/",
          "height": 206
        },
        "id": "bUVAGalrIOxZ",
        "outputId": "8abe8cc9-66b7-40c7-b191-ca4e58d739cb"
      },
      "execution_count": 13,
      "outputs": [
        {
          "output_type": "execute_result",
          "data": {
            "text/plain": [
              "             title                                               tags\n",
              "0        Inception  Action, Science Fiction, Adventure rescue, mis...\n",
              "1     Interstellar  Adventure, Drama, Science Fiction rescue, futu...\n",
              "2  The Dark Knight  Drama, Action, Crime, Thriller joker, sadism, ...\n",
              "3           Avatar  Action, Adventure, Fantasy, Science Fiction fu...\n",
              "4     The Avengers  Science Fiction, Action, Adventure new york ci..."
            ],
            "text/html": [
              "\n",
              "  <div id=\"df-64920a4e-1bab-49bd-a47c-cf4bb0452d85\" class=\"colab-df-container\">\n",
              "    <div>\n",
              "<style scoped>\n",
              "    .dataframe tbody tr th:only-of-type {\n",
              "        vertical-align: middle;\n",
              "    }\n",
              "\n",
              "    .dataframe tbody tr th {\n",
              "        vertical-align: top;\n",
              "    }\n",
              "\n",
              "    .dataframe thead th {\n",
              "        text-align: right;\n",
              "    }\n",
              "</style>\n",
              "<table border=\"1\" class=\"dataframe\">\n",
              "  <thead>\n",
              "    <tr style=\"text-align: right;\">\n",
              "      <th></th>\n",
              "      <th>title</th>\n",
              "      <th>tags</th>\n",
              "    </tr>\n",
              "  </thead>\n",
              "  <tbody>\n",
              "    <tr>\n",
              "      <th>0</th>\n",
              "      <td>Inception</td>\n",
              "      <td>Action, Science Fiction, Adventure rescue, mis...</td>\n",
              "    </tr>\n",
              "    <tr>\n",
              "      <th>1</th>\n",
              "      <td>Interstellar</td>\n",
              "      <td>Adventure, Drama, Science Fiction rescue, futu...</td>\n",
              "    </tr>\n",
              "    <tr>\n",
              "      <th>2</th>\n",
              "      <td>The Dark Knight</td>\n",
              "      <td>Drama, Action, Crime, Thriller joker, sadism, ...</td>\n",
              "    </tr>\n",
              "    <tr>\n",
              "      <th>3</th>\n",
              "      <td>Avatar</td>\n",
              "      <td>Action, Adventure, Fantasy, Science Fiction fu...</td>\n",
              "    </tr>\n",
              "    <tr>\n",
              "      <th>4</th>\n",
              "      <td>The Avengers</td>\n",
              "      <td>Science Fiction, Action, Adventure new york ci...</td>\n",
              "    </tr>\n",
              "  </tbody>\n",
              "</table>\n",
              "</div>\n",
              "    <div class=\"colab-df-buttons\">\n",
              "\n",
              "  <div class=\"colab-df-container\">\n",
              "    <button class=\"colab-df-convert\" onclick=\"convertToInteractive('df-64920a4e-1bab-49bd-a47c-cf4bb0452d85')\"\n",
              "            title=\"Convert this dataframe to an interactive table.\"\n",
              "            style=\"display:none;\">\n",
              "\n",
              "  <svg xmlns=\"http://www.w3.org/2000/svg\" height=\"24px\" viewBox=\"0 -960 960 960\">\n",
              "    <path d=\"M120-120v-720h720v720H120Zm60-500h600v-160H180v160Zm220 220h160v-160H400v160Zm0 220h160v-160H400v160ZM180-400h160v-160H180v160Zm440 0h160v-160H620v160ZM180-180h160v-160H180v160Zm440 0h160v-160H620v160Z\"/>\n",
              "  </svg>\n",
              "    </button>\n",
              "\n",
              "  <style>\n",
              "    .colab-df-container {\n",
              "      display:flex;\n",
              "      gap: 12px;\n",
              "    }\n",
              "\n",
              "    .colab-df-convert {\n",
              "      background-color: #E8F0FE;\n",
              "      border: none;\n",
              "      border-radius: 50%;\n",
              "      cursor: pointer;\n",
              "      display: none;\n",
              "      fill: #1967D2;\n",
              "      height: 32px;\n",
              "      padding: 0 0 0 0;\n",
              "      width: 32px;\n",
              "    }\n",
              "\n",
              "    .colab-df-convert:hover {\n",
              "      background-color: #E2EBFA;\n",
              "      box-shadow: 0px 1px 2px rgba(60, 64, 67, 0.3), 0px 1px 3px 1px rgba(60, 64, 67, 0.15);\n",
              "      fill: #174EA6;\n",
              "    }\n",
              "\n",
              "    .colab-df-buttons div {\n",
              "      margin-bottom: 4px;\n",
              "    }\n",
              "\n",
              "    [theme=dark] .colab-df-convert {\n",
              "      background-color: #3B4455;\n",
              "      fill: #D2E3FC;\n",
              "    }\n",
              "\n",
              "    [theme=dark] .colab-df-convert:hover {\n",
              "      background-color: #434B5C;\n",
              "      box-shadow: 0px 1px 3px 1px rgba(0, 0, 0, 0.15);\n",
              "      filter: drop-shadow(0px 1px 2px rgba(0, 0, 0, 0.3));\n",
              "      fill: #FFFFFF;\n",
              "    }\n",
              "  </style>\n",
              "\n",
              "    <script>\n",
              "      const buttonEl =\n",
              "        document.querySelector('#df-64920a4e-1bab-49bd-a47c-cf4bb0452d85 button.colab-df-convert');\n",
              "      buttonEl.style.display =\n",
              "        google.colab.kernel.accessAllowed ? 'block' : 'none';\n",
              "\n",
              "      async function convertToInteractive(key) {\n",
              "        const element = document.querySelector('#df-64920a4e-1bab-49bd-a47c-cf4bb0452d85');\n",
              "        const dataTable =\n",
              "          await google.colab.kernel.invokeFunction('convertToInteractive',\n",
              "                                                    [key], {});\n",
              "        if (!dataTable) return;\n",
              "\n",
              "        const docLinkHtml = 'Like what you see? Visit the ' +\n",
              "          '<a target=\"_blank\" href=https://colab.research.google.com/notebooks/data_table.ipynb>data table notebook</a>'\n",
              "          + ' to learn more about interactive tables.';\n",
              "        element.innerHTML = '';\n",
              "        dataTable['output_type'] = 'display_data';\n",
              "        await google.colab.output.renderOutput(dataTable, element);\n",
              "        const docLink = document.createElement('div');\n",
              "        docLink.innerHTML = docLinkHtml;\n",
              "        element.appendChild(docLink);\n",
              "      }\n",
              "    </script>\n",
              "  </div>\n",
              "\n",
              "\n",
              "<div id=\"df-3dc48f74-5215-41a3-990e-e9d54d9ce9a2\">\n",
              "  <button class=\"colab-df-quickchart\" onclick=\"quickchart('df-3dc48f74-5215-41a3-990e-e9d54d9ce9a2')\"\n",
              "            title=\"Suggest charts\"\n",
              "            style=\"display:none;\">\n",
              "\n",
              "<svg xmlns=\"http://www.w3.org/2000/svg\" height=\"24px\"viewBox=\"0 0 24 24\"\n",
              "     width=\"24px\">\n",
              "    <g>\n",
              "        <path d=\"M19 3H5c-1.1 0-2 .9-2 2v14c0 1.1.9 2 2 2h14c1.1 0 2-.9 2-2V5c0-1.1-.9-2-2-2zM9 17H7v-7h2v7zm4 0h-2V7h2v10zm4 0h-2v-4h2v4z\"/>\n",
              "    </g>\n",
              "</svg>\n",
              "  </button>\n",
              "\n",
              "<style>\n",
              "  .colab-df-quickchart {\n",
              "      --bg-color: #E8F0FE;\n",
              "      --fill-color: #1967D2;\n",
              "      --hover-bg-color: #E2EBFA;\n",
              "      --hover-fill-color: #174EA6;\n",
              "      --disabled-fill-color: #AAA;\n",
              "      --disabled-bg-color: #DDD;\n",
              "  }\n",
              "\n",
              "  [theme=dark] .colab-df-quickchart {\n",
              "      --bg-color: #3B4455;\n",
              "      --fill-color: #D2E3FC;\n",
              "      --hover-bg-color: #434B5C;\n",
              "      --hover-fill-color: #FFFFFF;\n",
              "      --disabled-bg-color: #3B4455;\n",
              "      --disabled-fill-color: #666;\n",
              "  }\n",
              "\n",
              "  .colab-df-quickchart {\n",
              "    background-color: var(--bg-color);\n",
              "    border: none;\n",
              "    border-radius: 50%;\n",
              "    cursor: pointer;\n",
              "    display: none;\n",
              "    fill: var(--fill-color);\n",
              "    height: 32px;\n",
              "    padding: 0;\n",
              "    width: 32px;\n",
              "  }\n",
              "\n",
              "  .colab-df-quickchart:hover {\n",
              "    background-color: var(--hover-bg-color);\n",
              "    box-shadow: 0 1px 2px rgba(60, 64, 67, 0.3), 0 1px 3px 1px rgba(60, 64, 67, 0.15);\n",
              "    fill: var(--button-hover-fill-color);\n",
              "  }\n",
              "\n",
              "  .colab-df-quickchart-complete:disabled,\n",
              "  .colab-df-quickchart-complete:disabled:hover {\n",
              "    background-color: var(--disabled-bg-color);\n",
              "    fill: var(--disabled-fill-color);\n",
              "    box-shadow: none;\n",
              "  }\n",
              "\n",
              "  .colab-df-spinner {\n",
              "    border: 2px solid var(--fill-color);\n",
              "    border-color: transparent;\n",
              "    border-bottom-color: var(--fill-color);\n",
              "    animation:\n",
              "      spin 1s steps(1) infinite;\n",
              "  }\n",
              "\n",
              "  @keyframes spin {\n",
              "    0% {\n",
              "      border-color: transparent;\n",
              "      border-bottom-color: var(--fill-color);\n",
              "      border-left-color: var(--fill-color);\n",
              "    }\n",
              "    20% {\n",
              "      border-color: transparent;\n",
              "      border-left-color: var(--fill-color);\n",
              "      border-top-color: var(--fill-color);\n",
              "    }\n",
              "    30% {\n",
              "      border-color: transparent;\n",
              "      border-left-color: var(--fill-color);\n",
              "      border-top-color: var(--fill-color);\n",
              "      border-right-color: var(--fill-color);\n",
              "    }\n",
              "    40% {\n",
              "      border-color: transparent;\n",
              "      border-right-color: var(--fill-color);\n",
              "      border-top-color: var(--fill-color);\n",
              "    }\n",
              "    60% {\n",
              "      border-color: transparent;\n",
              "      border-right-color: var(--fill-color);\n",
              "    }\n",
              "    80% {\n",
              "      border-color: transparent;\n",
              "      border-right-color: var(--fill-color);\n",
              "      border-bottom-color: var(--fill-color);\n",
              "    }\n",
              "    90% {\n",
              "      border-color: transparent;\n",
              "      border-bottom-color: var(--fill-color);\n",
              "    }\n",
              "  }\n",
              "</style>\n",
              "\n",
              "  <script>\n",
              "    async function quickchart(key) {\n",
              "      const quickchartButtonEl =\n",
              "        document.querySelector('#' + key + ' button');\n",
              "      quickchartButtonEl.disabled = true;  // To prevent multiple clicks.\n",
              "      quickchartButtonEl.classList.add('colab-df-spinner');\n",
              "      try {\n",
              "        const charts = await google.colab.kernel.invokeFunction(\n",
              "            'suggestCharts', [key], {});\n",
              "      } catch (error) {\n",
              "        console.error('Error during call to suggestCharts:', error);\n",
              "      }\n",
              "      quickchartButtonEl.classList.remove('colab-df-spinner');\n",
              "      quickchartButtonEl.classList.add('colab-df-quickchart-complete');\n",
              "    }\n",
              "    (() => {\n",
              "      let quickchartButtonEl =\n",
              "        document.querySelector('#df-3dc48f74-5215-41a3-990e-e9d54d9ce9a2 button');\n",
              "      quickchartButtonEl.style.display =\n",
              "        google.colab.kernel.accessAllowed ? 'block' : 'none';\n",
              "    })();\n",
              "  </script>\n",
              "</div>\n",
              "\n",
              "    </div>\n",
              "  </div>\n"
            ],
            "application/vnd.google.colaboratory.intrinsic+json": {
              "type": "dataframe",
              "variable_name": "new_df"
            }
          },
          "metadata": {},
          "execution_count": 13
        }
      ]
    },
    {
      "cell_type": "code",
      "source": [
        "new_df.iloc[0]"
      ],
      "metadata": {
        "colab": {
          "base_uri": "https://localhost:8080/",
          "height": 147
        },
        "id": "GNdXU2QLSiux",
        "outputId": "b2bfc008-dfb0-4c93-efae-2235cc681511"
      },
      "execution_count": 28,
      "outputs": [
        {
          "output_type": "execute_result",
          "data": {
            "text/plain": [
              "title                                            Inception\n",
              "tags     Action, Science Fiction, Adventure rescue, mis...\n",
              "Name: 0, dtype: object"
            ],
            "text/html": [
              "<div>\n",
              "<style scoped>\n",
              "    .dataframe tbody tr th:only-of-type {\n",
              "        vertical-align: middle;\n",
              "    }\n",
              "\n",
              "    .dataframe tbody tr th {\n",
              "        vertical-align: top;\n",
              "    }\n",
              "\n",
              "    .dataframe thead th {\n",
              "        text-align: right;\n",
              "    }\n",
              "</style>\n",
              "<table border=\"1\" class=\"dataframe\">\n",
              "  <thead>\n",
              "    <tr style=\"text-align: right;\">\n",
              "      <th></th>\n",
              "      <th>0</th>\n",
              "    </tr>\n",
              "  </thead>\n",
              "  <tbody>\n",
              "    <tr>\n",
              "      <th>title</th>\n",
              "      <td>Inception</td>\n",
              "    </tr>\n",
              "    <tr>\n",
              "      <th>tags</th>\n",
              "      <td>Action, Science Fiction, Adventure rescue, mis...</td>\n",
              "    </tr>\n",
              "  </tbody>\n",
              "</table>\n",
              "</div><br><label><b>dtype:</b> object</label>"
            ]
          },
          "metadata": {},
          "execution_count": 28
        }
      ]
    },
    {
      "cell_type": "code",
      "source": [
        "new_df.shape"
      ],
      "metadata": {
        "colab": {
          "base_uri": "https://localhost:8080/"
        },
        "id": "qrHNEpIIKlkO",
        "outputId": "92913734-f8ef-4925-ec0a-21825851b968"
      },
      "execution_count": 29,
      "outputs": [
        {
          "output_type": "execute_result",
          "data": {
            "text/plain": [
              "(1083493, 2)"
            ]
          },
          "metadata": {},
          "execution_count": 29
        }
      ]
    },
    {
      "cell_type": "code",
      "source": [
        "# Chuyển về chữ thường và loại bỏ từ dừng\n",
        "stop_words = set(stopwords.words('english'))\n",
        "\n",
        "def preprocess_text(text):\n",
        "    text = text.lower()  # Chuyển về chữ thường\n",
        "    word_tokens = word_tokenize(text)  # Tokenize văn bản thành các từ\n",
        "    # Loại bỏ từ dừng\n",
        "    filtered_text = [word for word in word_tokens if word not in stop_words]\n",
        "    return ' '.join(filtered_text)\n",
        "\n",
        "new_df['tags'] = new_df['tags'].apply(preprocess_text)"
      ],
      "metadata": {
        "id": "SpdLzNViSir2"
      },
      "execution_count": 14,
      "outputs": []
    },
    {
      "cell_type": "code",
      "source": [
        "new_df['tags'][50]"
      ],
      "metadata": {
        "id": "uP-wfpTRSio4"
      },
      "execution_count": null,
      "outputs": []
    },
    {
      "cell_type": "markdown",
      "source": [
        "Chuẩn bị dữ liệu đã xử lý trong 'new_df'"
      ],
      "metadata": {
        "id": "lkmDoku3PPVg"
      }
    },
    {
      "cell_type": "markdown",
      "source": [
        "Tiền xử lý dữ liệu"
      ],
      "metadata": {
        "id": "Bwnrm6lPX9fl"
      }
    },
    {
      "cell_type": "code",
      "source": [
        "# Chuyển đổi văn bản thành vector\n",
        "from sklearn.feature_extraction.text import TfidfVectorizer"
      ],
      "metadata": {
        "id": "gtASEQmneOEe"
      },
      "execution_count": 15,
      "outputs": []
    },
    {
      "cell_type": "code",
      "source": [
        "vectorizer = TfidfVectorizer(max_features=200)  # Giới hạn số lượng từ vựng\n",
        "X = vectorizer.fit_transform(new_df['tags']).toarray()"
      ],
      "metadata": {
        "id": "5XBjNLbkX6XA"
      },
      "execution_count": 16,
      "outputs": []
    },
    {
      "cell_type": "code",
      "source": [
        "# Chia dữ liệu thành các tập train, validation, và test\n",
        "from sklearn.model_selection import train_test_split"
      ],
      "metadata": {
        "id": "1ulPxmJWX6aA"
      },
      "execution_count": 17,
      "outputs": []
    },
    {
      "cell_type": "code",
      "source": [
        "X_train, X_temp = train_test_split(X, test_size=0.2, random_state=42)\n",
        "X_val, X_test = train_test_split(X_temp, test_size=0.5, random_state=42)"
      ],
      "metadata": {
        "id": "I7DpovtyX6cx"
      },
      "execution_count": 18,
      "outputs": []
    },
    {
      "cell_type": "code",
      "source": [
        "print(f\"Train set: {X_train.shape}\")\n",
        "print(f\"Validation set: {X_val.shape}\")\n",
        "print(f\"Test set: {X_test.shape}\")"
      ],
      "metadata": {
        "colab": {
          "base_uri": "https://localhost:8080/"
        },
        "id": "oSXWmXAPX6fm",
        "outputId": "46b2f673-2ffe-4c36-c78d-4fa4467812c6"
      },
      "execution_count": 19,
      "outputs": [
        {
          "output_type": "stream",
          "name": "stdout",
          "text": [
            "Train set: (866794, 200)\n",
            "Validation set: (108349, 200)\n",
            "Test set: (108350, 200)\n"
          ]
        }
      ]
    },
    {
      "cell_type": "markdown",
      "source": [
        "Tạo và Huấn luyện Autoencoder"
      ],
      "metadata": {
        "id": "qp6yHodNYJAn"
      }
    },
    {
      "cell_type": "code",
      "source": [
        "from tensorflow.keras.layers import Input, Dense\n",
        "from tensorflow.keras.models import Model"
      ],
      "metadata": {
        "id": "rxOV1dosX6ii"
      },
      "execution_count": 20,
      "outputs": []
    },
    {
      "cell_type": "code",
      "source": [
        "# Autoencoder Model\n",
        "input_dim = X_train.shape[1]\n",
        "encoding_dim = 100  # Kích thước của không gian mã hóa\n",
        "\n",
        "input_layer = Input(shape=(input_dim,))\n",
        "encoded = Dense(encoding_dim, activation='relu')(input_layer)\n",
        "decoded = Dense(input_dim, activation='sigmoid')(encoded)\n",
        "\n",
        "autoencoder = Model(input_layer, decoded)\n",
        "autoencoder.compile(optimizer='adam', loss='binary_crossentropy')\n"
      ],
      "metadata": {
        "id": "3s7lvayaX6lT"
      },
      "execution_count": 21,
      "outputs": []
    },
    {
      "cell_type": "code",
      "source": [
        "# Huấn luyện mô hình\n",
        "autoencoder.fit(X_train, X_train,\n",
        "                epochs=10,\n",
        "                batch_size=64,\n",
        "                validation_data=(X_val, X_val))"
      ],
      "metadata": {
        "colab": {
          "base_uri": "https://localhost:8080/"
        },
        "id": "uSp-Iec9X6oT",
        "outputId": "c21b3fdb-c948-4cb9-ac0c-236101e87109"
      },
      "execution_count": 22,
      "outputs": [
        {
          "output_type": "stream",
          "name": "stdout",
          "text": [
            "Epoch 1/10\n",
            "\u001b[1m13544/13544\u001b[0m \u001b[32m━━━━━━━━━━━━━━━━━━━━\u001b[0m\u001b[37m\u001b[0m \u001b[1m43s\u001b[0m 3ms/step - loss: 0.0543 - val_loss: 0.0234\n",
            "Epoch 2/10\n",
            "\u001b[1m13544/13544\u001b[0m \u001b[32m━━━━━━━━━━━━━━━━━━━━\u001b[0m\u001b[37m\u001b[0m \u001b[1m38s\u001b[0m 3ms/step - loss: 0.0228 - val_loss: 0.0216\n",
            "Epoch 3/10\n",
            "\u001b[1m13544/13544\u001b[0m \u001b[32m━━━━━━━━━━━━━━━━━━━━\u001b[0m\u001b[37m\u001b[0m \u001b[1m39s\u001b[0m 3ms/step - loss: 0.0213 - val_loss: 0.0209\n",
            "Epoch 4/10\n",
            "\u001b[1m13544/13544\u001b[0m \u001b[32m━━━━━━━━━━━━━━━━━━━━\u001b[0m\u001b[37m\u001b[0m \u001b[1m44s\u001b[0m 3ms/step - loss: 0.0208 - val_loss: 0.0207\n",
            "Epoch 5/10\n",
            "\u001b[1m13544/13544\u001b[0m \u001b[32m━━━━━━━━━━━━━━━━━━━━\u001b[0m\u001b[37m\u001b[0m \u001b[1m41s\u001b[0m 3ms/step - loss: 0.0206 - val_loss: 0.0206\n",
            "Epoch 6/10\n",
            "\u001b[1m13544/13544\u001b[0m \u001b[32m━━━━━━━━━━━━━━━━━━━━\u001b[0m\u001b[37m\u001b[0m \u001b[1m41s\u001b[0m 3ms/step - loss: 0.0205 - val_loss: 0.0206\n",
            "Epoch 7/10\n",
            "\u001b[1m13544/13544\u001b[0m \u001b[32m━━━━━━━━━━━━━━━━━━━━\u001b[0m\u001b[37m\u001b[0m \u001b[1m82s\u001b[0m 3ms/step - loss: 0.0205 - val_loss: 0.0205\n",
            "Epoch 8/10\n",
            "\u001b[1m13544/13544\u001b[0m \u001b[32m━━━━━━━━━━━━━━━━━━━━\u001b[0m\u001b[37m\u001b[0m \u001b[1m82s\u001b[0m 3ms/step - loss: 0.0205 - val_loss: 0.0205\n",
            "Epoch 9/10\n",
            "\u001b[1m13544/13544\u001b[0m \u001b[32m━━━━━━━━━━━━━━━━━━━━\u001b[0m\u001b[37m\u001b[0m \u001b[1m79s\u001b[0m 3ms/step - loss: 0.0204 - val_loss: 0.0205\n",
            "Epoch 10/10\n",
            "\u001b[1m13544/13544\u001b[0m \u001b[32m━━━━━━━━━━━━━━━━━━━━\u001b[0m\u001b[37m\u001b[0m \u001b[1m41s\u001b[0m 3ms/step - loss: 0.0204 - val_loss: 0.0205\n"
          ]
        },
        {
          "output_type": "execute_result",
          "data": {
            "text/plain": [
              "<keras.src.callbacks.history.History at 0x7bc6d1cb9ff0>"
            ]
          },
          "metadata": {},
          "execution_count": 22
        }
      ]
    },
    {
      "cell_type": "code",
      "source": [
        "test_loss = autoencoder.evaluate(X_test, X_test)\n",
        "print(f'Autoencoder Test Loss: {test_loss}')"
      ],
      "metadata": {
        "colab": {
          "base_uri": "https://localhost:8080/"
        },
        "id": "rjQNMhmYlX6T",
        "outputId": "03531930-0677-4ff7-999d-5538f463cc6b"
      },
      "execution_count": 23,
      "outputs": [
        {
          "output_type": "stream",
          "name": "stdout",
          "text": [
            "\u001b[1m3386/3386\u001b[0m \u001b[32m━━━━━━━━━━━━━━━━━━━━\u001b[0m\u001b[37m\u001b[0m \u001b[1m7s\u001b[0m 2ms/step - loss: 0.0205\n",
            "Autoencoder Test Loss: 0.020405501127243042\n"
          ]
        }
      ]
    },
    {
      "cell_type": "markdown",
      "source": [
        "Tạo và Huấn luyện Variational Autoencoder (VAE)"
      ],
      "metadata": {
        "id": "qd3w9uzkZ2i6"
      }
    },
    {
      "cell_type": "code",
      "source": [
        "import tensorflow as tf\n",
        "from tensorflow.keras.layers import Input, Dense, Lambda\n",
        "from tensorflow.keras.models import Model\n",
        "from tensorflow.keras import backend as K\n",
        "import numpy as np\n"
      ],
      "metadata": {
        "id": "GjLkKRdVaGUD"
      },
      "execution_count": 24,
      "outputs": []
    },
    {
      "cell_type": "code",
      "source": [
        "# Định nghĩa các tham số\n",
        "input_dim = X_train.shape[1]  # Kích thước của đầu vào\n",
        "encoding_dim = 100  # Kích thước của không gian mã hóa\n",
        "batch_size = 64\n",
        "epochs = 10"
      ],
      "metadata": {
        "id": "4DET9TrBaGW4"
      },
      "execution_count": 25,
      "outputs": []
    },
    {
      "cell_type": "code",
      "source": [
        "# Định nghĩa hàm mẫu cho lớp Lambda\n",
        "def sampling(args):\n",
        "    z_mean, z_log_var = args\n",
        "    batch = K.shape(z_mean)[0]\n",
        "    dim = K.int_shape(z_mean)[1]\n",
        "    epsilon = K.random_normal(shape=(batch, dim))\n",
        "    return z_mean + K.exp(0.5 * z_log_var) * epsilon\n"
      ],
      "metadata": {
        "id": "JQUsAmwUaGZg"
      },
      "execution_count": 26,
      "outputs": []
    },
    {
      "cell_type": "code",
      "source": [
        "# Encoder\n",
        "input_layer = Input(shape=(input_dim,))\n",
        "encoded = Dense(encoding_dim, activation='relu')(input_layer)\n",
        "z_mean = Dense(encoding_dim)(encoded)\n",
        "z_log_var = Dense(encoding_dim)(encoded)"
      ],
      "metadata": {
        "id": "t0EQ9aSamV04"
      },
      "execution_count": 27,
      "outputs": []
    },
    {
      "cell_type": "code",
      "source": [
        "# Lớp Sampling\n",
        "z = Lambda(sampling, output_shape=(encoding_dim,))([z_mean, z_log_var])\n",
        "\n"
      ],
      "metadata": {
        "id": "2uVqG1lweN--"
      },
      "execution_count": 28,
      "outputs": []
    },
    {
      "cell_type": "code",
      "source": [
        "# Decoder\n",
        "decoder_hid = Dense(encoding_dim, activation='relu')\n",
        "decoder_out = Dense(input_dim, activation='sigmoid')\n",
        "decoded = decoder_hid(z)\n",
        "decoded = decoder_out(decoded)"
      ],
      "metadata": {
        "id": "a4WCllHi6Lz6"
      },
      "execution_count": 29,
      "outputs": []
    },
    {
      "cell_type": "code",
      "source": [
        "# Mô hình VAE\n",
        "vae = Model(input_layer, decoded)"
      ],
      "metadata": {
        "id": "it_6_Ehz6L24"
      },
      "execution_count": 30,
      "outputs": []
    },
    {
      "cell_type": "code",
      "source": [
        "# Định nghĩa hàm mất mát VAE\n",
        "def vae_loss(x, x_decoded_mean):\n",
        "    xent_loss = input_dim * tf.keras.losses.binary_crossentropy(x, x_decoded_mean)\n",
        "    kl_loss = - 0.5 * tf.reduce_sum(1 + z_log_var - tf.square(z_mean) - tf.exp(z_log_var), axis=-1)\n",
        "    return xent_loss + kl_loss\n",
        "\n",
        "vae.compile(optimizer='adam', loss=vae_loss)"
      ],
      "metadata": {
        "id": "tMvE68Kk6L5d"
      },
      "execution_count": 33,
      "outputs": []
    },
    {
      "cell_type": "code",
      "source": [
        "# Huấn luyện mô hình\n",
        "vae.fit(X_train, X_train,\n",
        "        epochs=epochs,\n",
        "        batch_size=batch_size,\n",
        "        validation_data=(X_val, X_val))"
      ],
      "metadata": {
        "id": "i_OhdPmE6L8z"
      },
      "execution_count": null,
      "outputs": []
    },
    {
      "cell_type": "code",
      "source": [],
      "metadata": {
        "id": "dXMz2poB6L_f"
      },
      "execution_count": null,
      "outputs": []
    },
    {
      "cell_type": "code",
      "source": [],
      "metadata": {
        "id": "q8Ei1Lgm6MCR"
      },
      "execution_count": null,
      "outputs": []
    }
  ]
}