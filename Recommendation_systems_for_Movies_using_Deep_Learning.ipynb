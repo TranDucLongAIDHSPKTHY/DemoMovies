{
  "nbformat": 4,
  "nbformat_minor": 0,
  "metadata": {
    "colab": {
      "provenance": [],
      "gpuType": "V28",
      "authorship_tag": "ABX9TyOZvGis5YCcJirQlj8rHlQM",
      "include_colab_link": true
    },
    "kernelspec": {
      "name": "python3",
      "display_name": "Python 3"
    },
    "language_info": {
      "name": "python"
    },
    "accelerator": "TPU"
  },
  "cells": [
    {
      "cell_type": "markdown",
      "metadata": {
        "id": "view-in-github",
        "colab_type": "text"
      },
      "source": [
        "<a href=\"https://colab.research.google.com/github/TranDucLongAIDHSPKTHY/DemoMovies/blob/main/Recommendation_systems_for_Movies_using_Deep_Learning.ipynb\" target=\"_parent\"><img src=\"https://colab.research.google.com/assets/colab-badge.svg\" alt=\"Open In Colab\"/></a>"
      ]
    },
    {
      "cell_type": "markdown",
      "source": [
        "# Import thư viện"
      ],
      "metadata": {
        "id": "J2Gw-xxu5rnM"
      }
    },
    {
      "cell_type": "code",
      "source": [
        "import pandas as pd\n",
        "import numpy as np"
      ],
      "metadata": {
        "id": "DxW9bLt_RHee"
      },
      "execution_count": null,
      "outputs": []
    },
    {
      "cell_type": "code",
      "source": [
        "import torch\n",
        "import torch.nn as nn\n",
        "import torch.optim as optim\n",
        "from torch.utils.data import DataLoader, Dataset\n",
        "from sklearn.model_selection import train_test_split\n",
        "from sklearn.metrics import mean_squared_error, mean_absolute_error\n",
        "import torch.nn.functional as F"
      ],
      "metadata": {
        "id": "CUi0hLyo5uxd"
      },
      "execution_count": null,
      "outputs": []
    },
    {
      "cell_type": "code",
      "source": [
        "import matplotlib.pyplot as plt\n",
        "import seaborn as sns"
      ],
      "metadata": {
        "id": "Xm0gHi7IRKHP"
      },
      "execution_count": null,
      "outputs": []
    },
    {
      "cell_type": "code",
      "source": [
        "from google.colab import drive\n",
        "import seaborn as sns"
      ],
      "metadata": {
        "id": "nsDbpcI9JS8-"
      },
      "execution_count": null,
      "outputs": []
    },
    {
      "cell_type": "code",
      "source": [
        "drive.mount('/content/drive')"
      ],
      "metadata": {
        "colab": {
          "base_uri": "https://localhost:8080/"
        },
        "id": "Xpd8hjjlPQUK",
        "outputId": "ffb184d9-61c4-4854-d9dd-70489750e862"
      },
      "execution_count": null,
      "outputs": [
        {
          "output_type": "stream",
          "name": "stdout",
          "text": [
            "Drive already mounted at /content/drive; to attempt to forcibly remount, call drive.mount(\"/content/drive\", force_remount=True).\n"
          ]
        }
      ]
    },
    {
      "cell_type": "markdown",
      "source": [
        "# Đọc file csv"
      ],
      "metadata": {
        "id": "XriAj_VX5xR5"
      }
    },
    {
      "cell_type": "code",
      "source": [
        "rating = pd.read_csv('/content/drive/My Drive/Project4_Trần Đức Long_124211/movie-25M/ratings.csv')\n",
        "movie = pd.read_csv('/content/drive/My Drive/Project4_Trần Đức Long_124211/movie-25M/movies.csv')"
      ],
      "metadata": {
        "id": "iAGiTslHILFi"
      },
      "execution_count": null,
      "outputs": []
    },
    {
      "cell_type": "code",
      "source": [
        "rating.head(3)"
      ],
      "metadata": {
        "colab": {
          "base_uri": "https://localhost:8080/",
          "height": 206
        },
        "id": "_9zgyxSiu_kk",
        "outputId": "5c3693d5-9cfd-46f5-fe76-a645cf55ddf4"
      },
      "execution_count": null,
      "outputs": [
        {
          "output_type": "execute_result",
          "data": {
            "text/plain": [
              "   userId  movieId  rating   timestamp\n",
              "0       1      296     5.0  1147880044\n",
              "1       1      306     3.5  1147868817\n",
              "2       1      307     5.0  1147868828\n",
              "3       1      665     5.0  1147878820\n",
              "4       1      899     3.5  1147868510"
            ],
            "text/html": [
              "\n",
              "  <div id=\"df-f0fe430a-ad42-4da7-a2b9-64955d5600c9\" class=\"colab-df-container\">\n",
              "    <div>\n",
              "<style scoped>\n",
              "    .dataframe tbody tr th:only-of-type {\n",
              "        vertical-align: middle;\n",
              "    }\n",
              "\n",
              "    .dataframe tbody tr th {\n",
              "        vertical-align: top;\n",
              "    }\n",
              "\n",
              "    .dataframe thead th {\n",
              "        text-align: right;\n",
              "    }\n",
              "</style>\n",
              "<table border=\"1\" class=\"dataframe\">\n",
              "  <thead>\n",
              "    <tr style=\"text-align: right;\">\n",
              "      <th></th>\n",
              "      <th>userId</th>\n",
              "      <th>movieId</th>\n",
              "      <th>rating</th>\n",
              "      <th>timestamp</th>\n",
              "    </tr>\n",
              "  </thead>\n",
              "  <tbody>\n",
              "    <tr>\n",
              "      <th>0</th>\n",
              "      <td>1</td>\n",
              "      <td>296</td>\n",
              "      <td>5.0</td>\n",
              "      <td>1147880044</td>\n",
              "    </tr>\n",
              "    <tr>\n",
              "      <th>1</th>\n",
              "      <td>1</td>\n",
              "      <td>306</td>\n",
              "      <td>3.5</td>\n",
              "      <td>1147868817</td>\n",
              "    </tr>\n",
              "    <tr>\n",
              "      <th>2</th>\n",
              "      <td>1</td>\n",
              "      <td>307</td>\n",
              "      <td>5.0</td>\n",
              "      <td>1147868828</td>\n",
              "    </tr>\n",
              "    <tr>\n",
              "      <th>3</th>\n",
              "      <td>1</td>\n",
              "      <td>665</td>\n",
              "      <td>5.0</td>\n",
              "      <td>1147878820</td>\n",
              "    </tr>\n",
              "    <tr>\n",
              "      <th>4</th>\n",
              "      <td>1</td>\n",
              "      <td>899</td>\n",
              "      <td>3.5</td>\n",
              "      <td>1147868510</td>\n",
              "    </tr>\n",
              "  </tbody>\n",
              "</table>\n",
              "</div>\n",
              "    <div class=\"colab-df-buttons\">\n",
              "\n",
              "  <div class=\"colab-df-container\">\n",
              "    <button class=\"colab-df-convert\" onclick=\"convertToInteractive('df-f0fe430a-ad42-4da7-a2b9-64955d5600c9')\"\n",
              "            title=\"Convert this dataframe to an interactive table.\"\n",
              "            style=\"display:none;\">\n",
              "\n",
              "  <svg xmlns=\"http://www.w3.org/2000/svg\" height=\"24px\" viewBox=\"0 -960 960 960\">\n",
              "    <path d=\"M120-120v-720h720v720H120Zm60-500h600v-160H180v160Zm220 220h160v-160H400v160Zm0 220h160v-160H400v160ZM180-400h160v-160H180v160Zm440 0h160v-160H620v160ZM180-180h160v-160H180v160Zm440 0h160v-160H620v160Z\"/>\n",
              "  </svg>\n",
              "    </button>\n",
              "\n",
              "  <style>\n",
              "    .colab-df-container {\n",
              "      display:flex;\n",
              "      gap: 12px;\n",
              "    }\n",
              "\n",
              "    .colab-df-convert {\n",
              "      background-color: #E8F0FE;\n",
              "      border: none;\n",
              "      border-radius: 50%;\n",
              "      cursor: pointer;\n",
              "      display: none;\n",
              "      fill: #1967D2;\n",
              "      height: 32px;\n",
              "      padding: 0 0 0 0;\n",
              "      width: 32px;\n",
              "    }\n",
              "\n",
              "    .colab-df-convert:hover {\n",
              "      background-color: #E2EBFA;\n",
              "      box-shadow: 0px 1px 2px rgba(60, 64, 67, 0.3), 0px 1px 3px 1px rgba(60, 64, 67, 0.15);\n",
              "      fill: #174EA6;\n",
              "    }\n",
              "\n",
              "    .colab-df-buttons div {\n",
              "      margin-bottom: 4px;\n",
              "    }\n",
              "\n",
              "    [theme=dark] .colab-df-convert {\n",
              "      background-color: #3B4455;\n",
              "      fill: #D2E3FC;\n",
              "    }\n",
              "\n",
              "    [theme=dark] .colab-df-convert:hover {\n",
              "      background-color: #434B5C;\n",
              "      box-shadow: 0px 1px 3px 1px rgba(0, 0, 0, 0.15);\n",
              "      filter: drop-shadow(0px 1px 2px rgba(0, 0, 0, 0.3));\n",
              "      fill: #FFFFFF;\n",
              "    }\n",
              "  </style>\n",
              "\n",
              "    <script>\n",
              "      const buttonEl =\n",
              "        document.querySelector('#df-f0fe430a-ad42-4da7-a2b9-64955d5600c9 button.colab-df-convert');\n",
              "      buttonEl.style.display =\n",
              "        google.colab.kernel.accessAllowed ? 'block' : 'none';\n",
              "\n",
              "      async function convertToInteractive(key) {\n",
              "        const element = document.querySelector('#df-f0fe430a-ad42-4da7-a2b9-64955d5600c9');\n",
              "        const dataTable =\n",
              "          await google.colab.kernel.invokeFunction('convertToInteractive',\n",
              "                                                    [key], {});\n",
              "        if (!dataTable) return;\n",
              "\n",
              "        const docLinkHtml = 'Like what you see? Visit the ' +\n",
              "          '<a target=\"_blank\" href=https://colab.research.google.com/notebooks/data_table.ipynb>data table notebook</a>'\n",
              "          + ' to learn more about interactive tables.';\n",
              "        element.innerHTML = '';\n",
              "        dataTable['output_type'] = 'display_data';\n",
              "        await google.colab.output.renderOutput(dataTable, element);\n",
              "        const docLink = document.createElement('div');\n",
              "        docLink.innerHTML = docLinkHtml;\n",
              "        element.appendChild(docLink);\n",
              "      }\n",
              "    </script>\n",
              "  </div>\n",
              "\n",
              "\n",
              "<div id=\"df-978ae2d2-7cff-4499-9adc-e2ebcb87f070\">\n",
              "  <button class=\"colab-df-quickchart\" onclick=\"quickchart('df-978ae2d2-7cff-4499-9adc-e2ebcb87f070')\"\n",
              "            title=\"Suggest charts\"\n",
              "            style=\"display:none;\">\n",
              "\n",
              "<svg xmlns=\"http://www.w3.org/2000/svg\" height=\"24px\"viewBox=\"0 0 24 24\"\n",
              "     width=\"24px\">\n",
              "    <g>\n",
              "        <path d=\"M19 3H5c-1.1 0-2 .9-2 2v14c0 1.1.9 2 2 2h14c1.1 0 2-.9 2-2V5c0-1.1-.9-2-2-2zM9 17H7v-7h2v7zm4 0h-2V7h2v10zm4 0h-2v-4h2v4z\"/>\n",
              "    </g>\n",
              "</svg>\n",
              "  </button>\n",
              "\n",
              "<style>\n",
              "  .colab-df-quickchart {\n",
              "      --bg-color: #E8F0FE;\n",
              "      --fill-color: #1967D2;\n",
              "      --hover-bg-color: #E2EBFA;\n",
              "      --hover-fill-color: #174EA6;\n",
              "      --disabled-fill-color: #AAA;\n",
              "      --disabled-bg-color: #DDD;\n",
              "  }\n",
              "\n",
              "  [theme=dark] .colab-df-quickchart {\n",
              "      --bg-color: #3B4455;\n",
              "      --fill-color: #D2E3FC;\n",
              "      --hover-bg-color: #434B5C;\n",
              "      --hover-fill-color: #FFFFFF;\n",
              "      --disabled-bg-color: #3B4455;\n",
              "      --disabled-fill-color: #666;\n",
              "  }\n",
              "\n",
              "  .colab-df-quickchart {\n",
              "    background-color: var(--bg-color);\n",
              "    border: none;\n",
              "    border-radius: 50%;\n",
              "    cursor: pointer;\n",
              "    display: none;\n",
              "    fill: var(--fill-color);\n",
              "    height: 32px;\n",
              "    padding: 0;\n",
              "    width: 32px;\n",
              "  }\n",
              "\n",
              "  .colab-df-quickchart:hover {\n",
              "    background-color: var(--hover-bg-color);\n",
              "    box-shadow: 0 1px 2px rgba(60, 64, 67, 0.3), 0 1px 3px 1px rgba(60, 64, 67, 0.15);\n",
              "    fill: var(--button-hover-fill-color);\n",
              "  }\n",
              "\n",
              "  .colab-df-quickchart-complete:disabled,\n",
              "  .colab-df-quickchart-complete:disabled:hover {\n",
              "    background-color: var(--disabled-bg-color);\n",
              "    fill: var(--disabled-fill-color);\n",
              "    box-shadow: none;\n",
              "  }\n",
              "\n",
              "  .colab-df-spinner {\n",
              "    border: 2px solid var(--fill-color);\n",
              "    border-color: transparent;\n",
              "    border-bottom-color: var(--fill-color);\n",
              "    animation:\n",
              "      spin 1s steps(1) infinite;\n",
              "  }\n",
              "\n",
              "  @keyframes spin {\n",
              "    0% {\n",
              "      border-color: transparent;\n",
              "      border-bottom-color: var(--fill-color);\n",
              "      border-left-color: var(--fill-color);\n",
              "    }\n",
              "    20% {\n",
              "      border-color: transparent;\n",
              "      border-left-color: var(--fill-color);\n",
              "      border-top-color: var(--fill-color);\n",
              "    }\n",
              "    30% {\n",
              "      border-color: transparent;\n",
              "      border-left-color: var(--fill-color);\n",
              "      border-top-color: var(--fill-color);\n",
              "      border-right-color: var(--fill-color);\n",
              "    }\n",
              "    40% {\n",
              "      border-color: transparent;\n",
              "      border-right-color: var(--fill-color);\n",
              "      border-top-color: var(--fill-color);\n",
              "    }\n",
              "    60% {\n",
              "      border-color: transparent;\n",
              "      border-right-color: var(--fill-color);\n",
              "    }\n",
              "    80% {\n",
              "      border-color: transparent;\n",
              "      border-right-color: var(--fill-color);\n",
              "      border-bottom-color: var(--fill-color);\n",
              "    }\n",
              "    90% {\n",
              "      border-color: transparent;\n",
              "      border-bottom-color: var(--fill-color);\n",
              "    }\n",
              "  }\n",
              "</style>\n",
              "\n",
              "  <script>\n",
              "    async function quickchart(key) {\n",
              "      const quickchartButtonEl =\n",
              "        document.querySelector('#' + key + ' button');\n",
              "      quickchartButtonEl.disabled = true;  // To prevent multiple clicks.\n",
              "      quickchartButtonEl.classList.add('colab-df-spinner');\n",
              "      try {\n",
              "        const charts = await google.colab.kernel.invokeFunction(\n",
              "            'suggestCharts', [key], {});\n",
              "      } catch (error) {\n",
              "        console.error('Error during call to suggestCharts:', error);\n",
              "      }\n",
              "      quickchartButtonEl.classList.remove('colab-df-spinner');\n",
              "      quickchartButtonEl.classList.add('colab-df-quickchart-complete');\n",
              "    }\n",
              "    (() => {\n",
              "      let quickchartButtonEl =\n",
              "        document.querySelector('#df-978ae2d2-7cff-4499-9adc-e2ebcb87f070 button');\n",
              "      quickchartButtonEl.style.display =\n",
              "        google.colab.kernel.accessAllowed ? 'block' : 'none';\n",
              "    })();\n",
              "  </script>\n",
              "</div>\n",
              "\n",
              "    </div>\n",
              "  </div>\n"
            ],
            "application/vnd.google.colaboratory.intrinsic+json": {
              "type": "dataframe",
              "variable_name": "rating"
            }
          },
          "metadata": {},
          "execution_count": 46
        }
      ]
    },
    {
      "cell_type": "code",
      "source": [
        "movie.head(3)"
      ],
      "metadata": {
        "id": "HrGFBOrm6KRk"
      },
      "execution_count": null,
      "outputs": []
    },
    {
      "cell_type": "markdown",
      "source": [
        "#Giải thích dữ liệu & Tiền xử lý dữ liệu"
      ],
      "metadata": {
        "id": "p94iN7tT6Bxp"
      }
    },
    {
      "cell_type": "code",
      "source": [
        "rating.info()"
      ],
      "metadata": {
        "colab": {
          "base_uri": "https://localhost:8080/"
        },
        "id": "BNU9UNtCvCbg",
        "outputId": "173a68f1-2d0e-49e1-860f-b8f7e5b636ec"
      },
      "execution_count": null,
      "outputs": [
        {
          "output_type": "stream",
          "name": "stdout",
          "text": [
            "<class 'pandas.core.frame.DataFrame'>\n",
            "RangeIndex: 25000095 entries, 0 to 25000094\n",
            "Data columns (total 4 columns):\n",
            " #   Column     Dtype  \n",
            "---  ------     -----  \n",
            " 0   userId     int64  \n",
            " 1   movieId    int64  \n",
            " 2   rating     float64\n",
            " 3   timestamp  int64  \n",
            "dtypes: float64(1), int64(3)\n",
            "memory usage: 762.9 MB\n"
          ]
        }
      ]
    },
    {
      "cell_type": "code",
      "source": [
        "# Kiểm tra các giá trị thiếu\n",
        "print(rating.isnull().sum())"
      ],
      "metadata": {
        "colab": {
          "base_uri": "https://localhost:8080/"
        },
        "id": "b6f8fnO9OKRe",
        "outputId": "6bb6bd59-ca18-4ad3-f5b6-033b9ee0c37f"
      },
      "execution_count": null,
      "outputs": [
        {
          "output_type": "stream",
          "name": "stdout",
          "text": [
            "userId       0\n",
            "movieId      0\n",
            "rating       0\n",
            "timestamp    0\n",
            "dtype: int64\n"
          ]
        }
      ]
    },
    {
      "cell_type": "code",
      "source": [
        "# Kiểm tra các giá trị trùng lặp\n",
        "print(rating.duplicated().sum())"
      ],
      "metadata": {
        "colab": {
          "base_uri": "https://localhost:8080/"
        },
        "id": "OA0S3ODyOglw",
        "outputId": "2ed59b7e-7334-4f59-9155-87716c55e4dd"
      },
      "execution_count": null,
      "outputs": [
        {
          "output_type": "stream",
          "name": "stdout",
          "text": [
            "0\n"
          ]
        }
      ]
    },
    {
      "cell_type": "code",
      "source": [
        "movie.info()"
      ],
      "metadata": {
        "colab": {
          "base_uri": "https://localhost:8080/"
        },
        "id": "xqwXUMIGu_Xm",
        "outputId": "38fe5d24-4a7a-4bf0-dc8d-0395e33cbd75"
      },
      "execution_count": null,
      "outputs": [
        {
          "output_type": "stream",
          "name": "stdout",
          "text": [
            "<class 'pandas.core.frame.DataFrame'>\n",
            "RangeIndex: 62423 entries, 0 to 62422\n",
            "Data columns (total 3 columns):\n",
            " #   Column   Non-Null Count  Dtype \n",
            "---  ------   --------------  ----- \n",
            " 0   movieId  62423 non-null  int64 \n",
            " 1   title    62423 non-null  object\n",
            " 2   genres   62423 non-null  object\n",
            "dtypes: int64(1), object(2)\n",
            "memory usage: 1.4+ MB\n"
          ]
        }
      ]
    },
    {
      "cell_type": "code",
      "source": [
        "# Kiểm tra các giá trị thiếu\n",
        "print(movie.isnull().sum())"
      ],
      "metadata": {
        "colab": {
          "base_uri": "https://localhost:8080/"
        },
        "id": "wyMYwKXnOoy8",
        "outputId": "8d0da2d3-a7ed-48fa-fdbb-66e2dbcf17c0"
      },
      "execution_count": null,
      "outputs": [
        {
          "output_type": "stream",
          "name": "stdout",
          "text": [
            "movieId    0\n",
            "title      0\n",
            "genres     0\n",
            "dtype: int64\n"
          ]
        }
      ]
    },
    {
      "cell_type": "code",
      "source": [
        "# Kiểm tra các giá trị trùng lặp\n",
        "print(movie.duplicated().sum())"
      ],
      "metadata": {
        "colab": {
          "base_uri": "https://localhost:8080/"
        },
        "id": "SkKZxS24Osb-",
        "outputId": "a85f86d8-aed2-4b41-cd3b-799de31bd7b7"
      },
      "execution_count": null,
      "outputs": [
        {
          "output_type": "stream",
          "name": "stdout",
          "text": [
            "0\n"
          ]
        }
      ]
    },
    {
      "cell_type": "code",
      "source": [
        "ratings = rating.head(100396)#25000094"
      ],
      "metadata": {
        "id": "h2zk3hEiW8sa"
      },
      "execution_count": null,
      "outputs": []
    },
    {
      "cell_type": "code",
      "source": [
        "movies = movie.head(50000)"
      ],
      "metadata": {
        "id": "RRaF1Hh3W8ly"
      },
      "execution_count": null,
      "outputs": []
    },
    {
      "cell_type": "code",
      "source": [
        "# Kết hợp dữ liệu movies và ratings\n",
        "merged = pd.merge(ratings, movies, left_on='movieId', right_on='movieId')\n",
        "data = merged[['userId', 'movieId', 'rating']]"
      ],
      "metadata": {
        "id": "Wn3m8lZ-8g8f"
      },
      "execution_count": null,
      "outputs": []
    },
    {
      "cell_type": "code",
      "source": [
        "data.head()"
      ],
      "metadata": {
        "colab": {
          "base_uri": "https://localhost:8080/",
          "height": 206
        },
        "id": "OZceX7-aOzQJ",
        "outputId": "22dda49a-ae68-4709-8df9-938ab5291d1c"
      },
      "execution_count": null,
      "outputs": [
        {
          "output_type": "execute_result",
          "data": {
            "text/plain": [
              "   userId  movieId  rating\n",
              "0       1      296     5.0\n",
              "1       3      296     5.0\n",
              "2       4      296     4.0\n",
              "3       5      296     4.0\n",
              "4       7      296     4.0"
            ],
            "text/html": [
              "\n",
              "  <div id=\"df-af836df4-214f-45c7-a54e-c92929655a6e\" class=\"colab-df-container\">\n",
              "    <div>\n",
              "<style scoped>\n",
              "    .dataframe tbody tr th:only-of-type {\n",
              "        vertical-align: middle;\n",
              "    }\n",
              "\n",
              "    .dataframe tbody tr th {\n",
              "        vertical-align: top;\n",
              "    }\n",
              "\n",
              "    .dataframe thead th {\n",
              "        text-align: right;\n",
              "    }\n",
              "</style>\n",
              "<table border=\"1\" class=\"dataframe\">\n",
              "  <thead>\n",
              "    <tr style=\"text-align: right;\">\n",
              "      <th></th>\n",
              "      <th>userId</th>\n",
              "      <th>movieId</th>\n",
              "      <th>rating</th>\n",
              "    </tr>\n",
              "  </thead>\n",
              "  <tbody>\n",
              "    <tr>\n",
              "      <th>0</th>\n",
              "      <td>1</td>\n",
              "      <td>296</td>\n",
              "      <td>5.0</td>\n",
              "    </tr>\n",
              "    <tr>\n",
              "      <th>1</th>\n",
              "      <td>3</td>\n",
              "      <td>296</td>\n",
              "      <td>5.0</td>\n",
              "    </tr>\n",
              "    <tr>\n",
              "      <th>2</th>\n",
              "      <td>4</td>\n",
              "      <td>296</td>\n",
              "      <td>4.0</td>\n",
              "    </tr>\n",
              "    <tr>\n",
              "      <th>3</th>\n",
              "      <td>5</td>\n",
              "      <td>296</td>\n",
              "      <td>4.0</td>\n",
              "    </tr>\n",
              "    <tr>\n",
              "      <th>4</th>\n",
              "      <td>7</td>\n",
              "      <td>296</td>\n",
              "      <td>4.0</td>\n",
              "    </tr>\n",
              "  </tbody>\n",
              "</table>\n",
              "</div>\n",
              "    <div class=\"colab-df-buttons\">\n",
              "\n",
              "  <div class=\"colab-df-container\">\n",
              "    <button class=\"colab-df-convert\" onclick=\"convertToInteractive('df-af836df4-214f-45c7-a54e-c92929655a6e')\"\n",
              "            title=\"Convert this dataframe to an interactive table.\"\n",
              "            style=\"display:none;\">\n",
              "\n",
              "  <svg xmlns=\"http://www.w3.org/2000/svg\" height=\"24px\" viewBox=\"0 -960 960 960\">\n",
              "    <path d=\"M120-120v-720h720v720H120Zm60-500h600v-160H180v160Zm220 220h160v-160H400v160Zm0 220h160v-160H400v160ZM180-400h160v-160H180v160Zm440 0h160v-160H620v160ZM180-180h160v-160H180v160Zm440 0h160v-160H620v160Z\"/>\n",
              "  </svg>\n",
              "    </button>\n",
              "\n",
              "  <style>\n",
              "    .colab-df-container {\n",
              "      display:flex;\n",
              "      gap: 12px;\n",
              "    }\n",
              "\n",
              "    .colab-df-convert {\n",
              "      background-color: #E8F0FE;\n",
              "      border: none;\n",
              "      border-radius: 50%;\n",
              "      cursor: pointer;\n",
              "      display: none;\n",
              "      fill: #1967D2;\n",
              "      height: 32px;\n",
              "      padding: 0 0 0 0;\n",
              "      width: 32px;\n",
              "    }\n",
              "\n",
              "    .colab-df-convert:hover {\n",
              "      background-color: #E2EBFA;\n",
              "      box-shadow: 0px 1px 2px rgba(60, 64, 67, 0.3), 0px 1px 3px 1px rgba(60, 64, 67, 0.15);\n",
              "      fill: #174EA6;\n",
              "    }\n",
              "\n",
              "    .colab-df-buttons div {\n",
              "      margin-bottom: 4px;\n",
              "    }\n",
              "\n",
              "    [theme=dark] .colab-df-convert {\n",
              "      background-color: #3B4455;\n",
              "      fill: #D2E3FC;\n",
              "    }\n",
              "\n",
              "    [theme=dark] .colab-df-convert:hover {\n",
              "      background-color: #434B5C;\n",
              "      box-shadow: 0px 1px 3px 1px rgba(0, 0, 0, 0.15);\n",
              "      filter: drop-shadow(0px 1px 2px rgba(0, 0, 0, 0.3));\n",
              "      fill: #FFFFFF;\n",
              "    }\n",
              "  </style>\n",
              "\n",
              "    <script>\n",
              "      const buttonEl =\n",
              "        document.querySelector('#df-af836df4-214f-45c7-a54e-c92929655a6e button.colab-df-convert');\n",
              "      buttonEl.style.display =\n",
              "        google.colab.kernel.accessAllowed ? 'block' : 'none';\n",
              "\n",
              "      async function convertToInteractive(key) {\n",
              "        const element = document.querySelector('#df-af836df4-214f-45c7-a54e-c92929655a6e');\n",
              "        const dataTable =\n",
              "          await google.colab.kernel.invokeFunction('convertToInteractive',\n",
              "                                                    [key], {});\n",
              "        if (!dataTable) return;\n",
              "\n",
              "        const docLinkHtml = 'Like what you see? Visit the ' +\n",
              "          '<a target=\"_blank\" href=https://colab.research.google.com/notebooks/data_table.ipynb>data table notebook</a>'\n",
              "          + ' to learn more about interactive tables.';\n",
              "        element.innerHTML = '';\n",
              "        dataTable['output_type'] = 'display_data';\n",
              "        await google.colab.output.renderOutput(dataTable, element);\n",
              "        const docLink = document.createElement('div');\n",
              "        docLink.innerHTML = docLinkHtml;\n",
              "        element.appendChild(docLink);\n",
              "      }\n",
              "    </script>\n",
              "  </div>\n",
              "\n",
              "\n",
              "<div id=\"df-417306c7-d283-4f1d-a114-1cfbee5a9015\">\n",
              "  <button class=\"colab-df-quickchart\" onclick=\"quickchart('df-417306c7-d283-4f1d-a114-1cfbee5a9015')\"\n",
              "            title=\"Suggest charts\"\n",
              "            style=\"display:none;\">\n",
              "\n",
              "<svg xmlns=\"http://www.w3.org/2000/svg\" height=\"24px\"viewBox=\"0 0 24 24\"\n",
              "     width=\"24px\">\n",
              "    <g>\n",
              "        <path d=\"M19 3H5c-1.1 0-2 .9-2 2v14c0 1.1.9 2 2 2h14c1.1 0 2-.9 2-2V5c0-1.1-.9-2-2-2zM9 17H7v-7h2v7zm4 0h-2V7h2v10zm4 0h-2v-4h2v4z\"/>\n",
              "    </g>\n",
              "</svg>\n",
              "  </button>\n",
              "\n",
              "<style>\n",
              "  .colab-df-quickchart {\n",
              "      --bg-color: #E8F0FE;\n",
              "      --fill-color: #1967D2;\n",
              "      --hover-bg-color: #E2EBFA;\n",
              "      --hover-fill-color: #174EA6;\n",
              "      --disabled-fill-color: #AAA;\n",
              "      --disabled-bg-color: #DDD;\n",
              "  }\n",
              "\n",
              "  [theme=dark] .colab-df-quickchart {\n",
              "      --bg-color: #3B4455;\n",
              "      --fill-color: #D2E3FC;\n",
              "      --hover-bg-color: #434B5C;\n",
              "      --hover-fill-color: #FFFFFF;\n",
              "      --disabled-bg-color: #3B4455;\n",
              "      --disabled-fill-color: #666;\n",
              "  }\n",
              "\n",
              "  .colab-df-quickchart {\n",
              "    background-color: var(--bg-color);\n",
              "    border: none;\n",
              "    border-radius: 50%;\n",
              "    cursor: pointer;\n",
              "    display: none;\n",
              "    fill: var(--fill-color);\n",
              "    height: 32px;\n",
              "    padding: 0;\n",
              "    width: 32px;\n",
              "  }\n",
              "\n",
              "  .colab-df-quickchart:hover {\n",
              "    background-color: var(--hover-bg-color);\n",
              "    box-shadow: 0 1px 2px rgba(60, 64, 67, 0.3), 0 1px 3px 1px rgba(60, 64, 67, 0.15);\n",
              "    fill: var(--button-hover-fill-color);\n",
              "  }\n",
              "\n",
              "  .colab-df-quickchart-complete:disabled,\n",
              "  .colab-df-quickchart-complete:disabled:hover {\n",
              "    background-color: var(--disabled-bg-color);\n",
              "    fill: var(--disabled-fill-color);\n",
              "    box-shadow: none;\n",
              "  }\n",
              "\n",
              "  .colab-df-spinner {\n",
              "    border: 2px solid var(--fill-color);\n",
              "    border-color: transparent;\n",
              "    border-bottom-color: var(--fill-color);\n",
              "    animation:\n",
              "      spin 1s steps(1) infinite;\n",
              "  }\n",
              "\n",
              "  @keyframes spin {\n",
              "    0% {\n",
              "      border-color: transparent;\n",
              "      border-bottom-color: var(--fill-color);\n",
              "      border-left-color: var(--fill-color);\n",
              "    }\n",
              "    20% {\n",
              "      border-color: transparent;\n",
              "      border-left-color: var(--fill-color);\n",
              "      border-top-color: var(--fill-color);\n",
              "    }\n",
              "    30% {\n",
              "      border-color: transparent;\n",
              "      border-left-color: var(--fill-color);\n",
              "      border-top-color: var(--fill-color);\n",
              "      border-right-color: var(--fill-color);\n",
              "    }\n",
              "    40% {\n",
              "      border-color: transparent;\n",
              "      border-right-color: var(--fill-color);\n",
              "      border-top-color: var(--fill-color);\n",
              "    }\n",
              "    60% {\n",
              "      border-color: transparent;\n",
              "      border-right-color: var(--fill-color);\n",
              "    }\n",
              "    80% {\n",
              "      border-color: transparent;\n",
              "      border-right-color: var(--fill-color);\n",
              "      border-bottom-color: var(--fill-color);\n",
              "    }\n",
              "    90% {\n",
              "      border-color: transparent;\n",
              "      border-bottom-color: var(--fill-color);\n",
              "    }\n",
              "  }\n",
              "</style>\n",
              "\n",
              "  <script>\n",
              "    async function quickchart(key) {\n",
              "      const quickchartButtonEl =\n",
              "        document.querySelector('#' + key + ' button');\n",
              "      quickchartButtonEl.disabled = true;  // To prevent multiple clicks.\n",
              "      quickchartButtonEl.classList.add('colab-df-spinner');\n",
              "      try {\n",
              "        const charts = await google.colab.kernel.invokeFunction(\n",
              "            'suggestCharts', [key], {});\n",
              "      } catch (error) {\n",
              "        console.error('Error during call to suggestCharts:', error);\n",
              "      }\n",
              "      quickchartButtonEl.classList.remove('colab-df-spinner');\n",
              "      quickchartButtonEl.classList.add('colab-df-quickchart-complete');\n",
              "    }\n",
              "    (() => {\n",
              "      let quickchartButtonEl =\n",
              "        document.querySelector('#df-417306c7-d283-4f1d-a114-1cfbee5a9015 button');\n",
              "      quickchartButtonEl.style.display =\n",
              "        google.colab.kernel.accessAllowed ? 'block' : 'none';\n",
              "    })();\n",
              "  </script>\n",
              "</div>\n",
              "\n",
              "    </div>\n",
              "  </div>\n"
            ],
            "application/vnd.google.colaboratory.intrinsic+json": {
              "type": "dataframe",
              "variable_name": "data",
              "summary": "{\n  \"name\": \"data\",\n  \"rows\": 100000,\n  \"fields\": [\n    {\n      \"column\": \"userId\",\n      \"properties\": {\n        \"dtype\": \"number\",\n        \"std\": 221,\n        \"min\": 1,\n        \"max\": 757,\n        \"num_unique_values\": 757,\n        \"samples\": [\n          586,\n          204,\n          594\n        ],\n        \"semantic_type\": \"\",\n        \"description\": \"\"\n      }\n    },\n    {\n      \"column\": \"movieId\",\n      \"properties\": {\n        \"dtype\": \"number\",\n        \"std\": 36680,\n        \"min\": 1,\n        \"max\": 180045,\n        \"num_unique_values\": 9572,\n        \"samples\": [\n          2879,\n          3379,\n          336\n        ],\n        \"semantic_type\": \"\",\n        \"description\": \"\"\n      }\n    },\n    {\n      \"column\": \"rating\",\n      \"properties\": {\n        \"dtype\": \"number\",\n        \"std\": 1.040495246543001,\n        \"min\": 0.5,\n        \"max\": 5.0,\n        \"num_unique_values\": 10,\n        \"samples\": [\n          0.5,\n          4.0,\n          2.5\n        ],\n        \"semantic_type\": \"\",\n        \"description\": \"\"\n      }\n    }\n  ]\n}"
            }
          },
          "metadata": {},
          "execution_count": 58
        }
      ]
    },
    {
      "cell_type": "code",
      "source": [
        "data.info()"
      ],
      "metadata": {
        "id": "fODWkx295g2t"
      },
      "execution_count": null,
      "outputs": []
    },
    {
      "cell_type": "code",
      "source": [
        "# Đánh chỉ số cho user_id và movie_id\n",
        "user_ids = data['userId'].unique().tolist()\n",
        "movie_ids = data['movieId'].unique().tolist()\n",
        "user_id_to_index = {x: i for i, x in enumerate(user_ids)}\n",
        "movie_id_to_index = {x: i for i, x in enumerate(movie_ids)}"
      ],
      "metadata": {
        "id": "mzYzZKq_ILNu"
      },
      "execution_count": null,
      "outputs": []
    },
    {
      "cell_type": "code",
      "source": [
        "# Thay thế user_id và movie_id bằng các chỉ số\n",
        "data['user'] = data['userId'].map(user_id_to_index)\n",
        "data['movie'] = data['movieId'].map(movie_id_to_index)"
      ],
      "metadata": {
        "id": "1fk3-3JKPlVL",
        "colab": {
          "base_uri": "https://localhost:8080/"
        },
        "outputId": "c2436bed-ec87-4b3e-8062-9cf2c6acb806"
      },
      "execution_count": null,
      "outputs": [
        {
          "output_type": "stream",
          "name": "stderr",
          "text": [
            "<ipython-input-63-331b79e951b3>:4: SettingWithCopyWarning: \n",
            "A value is trying to be set on a copy of a slice from a DataFrame.\n",
            "Try using .loc[row_indexer,col_indexer] = value instead\n",
            "\n",
            "See the caveats in the documentation: https://pandas.pydata.org/pandas-docs/stable/user_guide/indexing.html#returning-a-view-versus-a-copy\n",
            "  data['user'] = data['userId'].map(user_id_to_index)\n",
            "<ipython-input-63-331b79e951b3>:5: SettingWithCopyWarning: \n",
            "A value is trying to be set on a copy of a slice from a DataFrame.\n",
            "Try using .loc[row_indexer,col_indexer] = value instead\n",
            "\n",
            "See the caveats in the documentation: https://pandas.pydata.org/pandas-docs/stable/user_guide/indexing.html#returning-a-view-versus-a-copy\n",
            "  data['movie'] = data['movieId'].map(movie_id_to_index)\n"
          ]
        }
      ]
    },
    {
      "cell_type": "markdown",
      "source": [
        "# Trực quan hóa dữ liệu"
      ],
      "metadata": {
        "id": "y3zFcrxA6VrD"
      }
    },
    {
      "cell_type": "code",
      "source": [
        "import matplotlib.pyplot as plt\n",
        "import seaborn as sns"
      ],
      "metadata": {
        "id": "VbkdSrQhPmGe"
      },
      "execution_count": null,
      "outputs": []
    },
    {
      "cell_type": "code",
      "source": [
        "#Biểu đồ phân phối xếp hạng của các bộ phim\n",
        "plt.figure(figsize=(10, 6))\n",
        "sns.countplot(data=data, x='rating', palette='viridis')\n",
        "plt.title('Phân phối các xếp hạng')\n",
        "plt.xlabel('Xếp hạng')\n",
        "plt.ylabel('Số lượng')\n",
        "plt.show()"
      ],
      "metadata": {
        "colab": {
          "base_uri": "https://localhost:8080/",
          "height": 652
        },
        "id": "DArqzjQQPmCK",
        "outputId": "9b14f52d-9695-4475-8b63-658f7ad945e2"
      },
      "execution_count": null,
      "outputs": [
        {
          "output_type": "stream",
          "name": "stderr",
          "text": [
            "<ipython-input-65-2d5f83185730>:4: FutureWarning: \n",
            "\n",
            "Passing `palette` without assigning `hue` is deprecated and will be removed in v0.14.0. Assign the `x` variable to `hue` and set `legend=False` for the same effect.\n",
            "\n",
            "  sns.countplot(data=data, x='rating', palette='viridis')\n"
          ]
        },
        {
          "output_type": "display_data",
          "data": {
            "text/plain": [
              "<Figure size 1000x600 with 1 Axes>"
            ],
            "image/png": "[encoded data removed]"
          },
          "metadata": {}
        }
      ]
    },
    {
      "cell_type": "code",
      "source": [
        "# Tính trung bình xếp hạng cho mỗi phim\n",
        "average_rating_per_movie = data.groupby('movieId')['rating'].mean()\n",
        "plt.figure(figsize=(10, 6))\n",
        "sns.histplot(average_rating_per_movie, bins=50, kde=True)\n",
        "plt.title('Xếp hạng trung bình mỗi phim')\n",
        "plt.xlabel('Xếp hạng trung bình')\n",
        "plt.ylabel('Số lượng')\n",
        "plt.show()"
      ],
      "metadata": {
        "colab": {
          "base_uri": "https://localhost:8080/",
          "height": 551
        },
        "id": "dXtX06dsILQM",
        "outputId": "da468e50-6a75-40ed-904c-faf48c763007"
      },
      "execution_count": null,
      "outputs": [
        {
          "output_type": "display_data",
          "data": {
            "text/plain": [
              "<Figure size 1000x600 with 1 Axes>"
            ],
            "image/png": "[encoded data removed]"
          },
          "metadata": {}
        }
      ]
    },
    {
      "cell_type": "markdown",
      "source": [
        "# Train & Test"
      ],
      "metadata": {
        "id": "TLADrFNq6b6r"
      }
    },
    {
      "cell_type": "code",
      "source": [
        "train, test = train_test_split(data, test_size=0.2, random_state=42)"
      ],
      "metadata": {
        "id": "fOJ8GqbNILSy"
      },
      "execution_count": null,
      "outputs": []
    },
    {
      "cell_type": "code",
      "source": [
        "# Đếm số lượng mẫu trong mỗi tập\n",
        "train_count = len(train)\n",
        "test_count = len(test)"
      ],
      "metadata": {
        "colab": {
          "base_uri": "https://localhost:8080/",
          "height": 452
        },
        "id": "_H2ookTpPRbU",
        "outputId": "2eaba3cb-2c79-43df-d8d2-090c7896a9a9"
      },
      "execution_count": null,
      "outputs": [
        {
          "output_type": "display_data",
          "data": {
            "text/plain": [
              "<Figure size 640x480 with 1 Axes>"
            ],
            "image/png": "[encoded data removed]"
          },
          "metadata": {}
        }
      ]
    },
    {
      "cell_type": "code",
      "source": [
        "# Vẽ biểu đồ\n",
        "labels = ['Train', 'Test']\n",
        "counts = [train_count, test_count]\n",
        "\n",
        "plt.bar(labels, counts, color=['skyblue', 'salmon'])\n",
        "\n",
        "# Hiển thị số lượng mẫu trên đỉnh mỗi cột\n",
        "for i, count in enumerate(counts):\n",
        "    plt.text(i, count + 100, str(count), ha='center', va='bottom')\n",
        "\n",
        "plt.ylabel('Số lượng mẫu')\n",
        "plt.title('Số lượng mẫu trong các tập Train và Test')\n",
        "plt.show()"
      ],
      "metadata": {
        "id": "nlflwwC7Rhop"
      },
      "execution_count": null,
      "outputs": []
    },
    {
      "cell_type": "markdown",
      "source": [
        "# Build model Autuencoder & NCF_MLP"
      ],
      "metadata": {
        "id": "Auoa7V0E6igi"
      }
    },
    {
      "cell_type": "code",
      "source": [
        "# Định nghĩa dataset\n",
        "class RatingsDataset(Dataset):\n",
        "    def __init__(self, ratings):\n",
        "        self.ratings = ratings\n",
        "\n",
        "    def __len__(self):\n",
        "        return len(self.ratings)\n",
        "\n",
        "    def __getitem__(self, idx):\n",
        "        user = self.ratings.iloc[idx]['user']\n",
        "        movie = self.ratings.iloc[idx]['movie']\n",
        "        rating = self.ratings.iloc[idx]['rating']\n",
        "        return torch.tensor(user), torch.tensor(movie), torch.tensor(rating, dtype=torch.float32)"
      ],
      "metadata": {
        "id": "YF3YhrMyPzhL"
      },
      "execution_count": null,
      "outputs": []
    },
    {
      "cell_type": "code",
      "source": [
        "# Tạo dataset cho train và test\n",
        "train_dataset = RatingsDataset(train)\n",
        "test_dataset = RatingsDataset(test)"
      ],
      "metadata": {
        "id": "2-F1es8ZP0lv"
      },
      "execution_count": null,
      "outputs": []
    },
    {
      "cell_type": "code",
      "source": [
        "# Tạo DataLoader để lấy các batch dữ liệu\n",
        "#train_loader = torch.utils.data.DataLoader(train_dataset, batch_size=256, shuffle=True)\n",
        "#test_loader = torch.utils.data.DataLoader(test_dataset, batch_size=256, shuffle=False)\n",
        "\n",
        "\n",
        "train_loader = DataLoader(train_dataset, batch_size=256, shuffle=True)\n",
        "test_loader = DataLoader(test_dataset, batch_size=256, shuffle=False)"
      ],
      "metadata": {
        "id": "xgyt7ACKP2vK"
      },
      "execution_count": null,
      "outputs": []
    },
    {
      "cell_type": "code",
      "source": [
        "# Định nghĩa mô hình Autoencoder\n",
        "class Autoencoder(nn.Module):\n",
        "    def __init__(self, num_users, num_movies, embedding_size=50):\n",
        "        super(Autoencoder, self).__init__()\n",
        "        self.user_embedding = nn.Embedding(num_users, embedding_size)\n",
        "        self.movie_embedding = nn.Embedding(num_movies, embedding_size)\n",
        "        self.fc1 = nn.Linear(embedding_size * 2, 256)\n",
        "        self.fc2 = nn.Linear(256, embedding_size * 2)\n",
        "        self.fc3 = nn.Linear(embedding_size * 2, embedding_size * 2)\n",
        "        self.fc4 = nn.Linear(embedding_size * 2, 256)\n",
        "        self.fc5 = nn.Linear(256, 1)\n",
        "\n",
        "    def forward(self, user, movie):\n",
        "        user_embedded = self.user_embedding(user)\n",
        "        movie_embedded = self.movie_embedding(movie)\n",
        "        x = torch.cat([user_embedded, movie_embedded], dim=1)\n",
        "        x = torch.relu(self.fc1(x))\n",
        "        x = torch.relu(self.fc2(x))\n",
        "        x = torch.relu(self.fc3(x))\n",
        "        x = torch.relu(self.fc4(x))\n",
        "        x = self.fc5(x)\n",
        "        return x"
      ],
      "metadata": {
        "id": "IGA_3RZF9_aa"
      },
      "execution_count": null,
      "outputs": []
    },
    {
      "cell_type": "code",
      "source": [
        "# Định nghĩa mô hình MLP trong NCF\n",
        "class NCF_MLP(nn.Module):\n",
        "    def __init__(self, num_users, num_movies, embedding_size=50, hidden_layers=[256, 128, 64]):\n",
        "        super(NCF_MLP, self).__init__()\n",
        "\n",
        "        # Tầng embedding cho user và movie\n",
        "        self.user_embedding = nn.Embedding(num_users, embedding_size)\n",
        "        self.movie_embedding = nn.Embedding(num_movies, embedding_size)\n",
        "\n",
        "        # Tầng fully connected với các hidden layers\n",
        "        layers = []\n",
        "        input_size = embedding_size * 2  # vì nối 2 embedding lại với nhau\n",
        "        for hidden_layer_size in hidden_layers:\n",
        "            layers.append(nn.Linear(input_size, hidden_layer_size))\n",
        "            layers.append(nn.ReLU()) #Hàm kích hoạt ReLU\n",
        "            input_size = hidden_layer_size  # cập nhật kích thước đầu vào cho tầng tiếp theo\n",
        "\n",
        "        # Sequential model cho MLP\n",
        "        self.mlp_layers = nn.Sequential(*layers)\n",
        "\n",
        "        # Tầng đầu ra\n",
        "        self.output_layer = nn.Linear(hidden_layers[-1], 1) #Tầng đầu ra là một tầng fully connected với chỉ một neuron, mục tiêu là dự đoán rating từ đầu vào.\n",
        "\n",
        "    def forward(self, user, movie):\n",
        "        # Embedding user và movie\n",
        "        user_embedded = self.user_embedding(user)\n",
        "        movie_embedded = self.movie_embedding(movie)\n",
        "\n",
        "        # Nối 2 embedding lại với nhau\n",
        "        x = torch.cat([user_embedded, movie_embedded], dim=1)\n",
        "\n",
        "        # Đi qua các tầng MLP\n",
        "        x = self.mlp_layers(x)\n",
        "\n",
        "        # Tầng đầu ra dự đoán rating\n",
        "        x = self.output_layer(x)\n",
        "        return x"
      ],
      "metadata": {
        "id": "nidzea5u-C-V"
      },
      "execution_count": null,
      "outputs": []
    },
    {
      "cell_type": "code",
      "source": [
        "# Khởi tạo mô hình với optimizer (số lượng user và movie)\n",
        "num_users = len(user_ids)\n",
        "num_movies = len(movie_ids)\n",
        "embedding_size = 50\n",
        "hidden_layers = [256, 128, 64]  # các tầng ẩn"
      ],
      "metadata": {
        "id": "xMA3LQv_QK9L"
      },
      "execution_count": null,
      "outputs": []
    },
    {
      "cell_type": "code",
      "source": [
        "autoencoder = Autoencoder(num_users, num_movies, embedding_size)\n",
        "ncf_mlp = NCF_MLP(num_users, num_movies, embedding_size, hidden_layers) #lựa chọn model để xây dựng hệ thống"
      ],
      "metadata": {
        "id": "65qw2Fio-NRL"
      },
      "execution_count": null,
      "outputs": []
    },
    {
      "cell_type": "code",
      "source": [
        "#Tải mô hình đã lưu\n",
        "#autoencoder.load_state_dict(torch.load('/content/drive/My Drive/Project4_Trần Đức Long_124211/autoencoder_model.pth'))\n",
        "#ncf_mlp.load_state_dict(torch.load('/content/drive/My Drive/Project4_Trần Đức Long_124211/ncf_mlp_model.pth'))\n"
      ],
      "metadata": {
        "id": "ZMamUrJGTouW"
      },
      "execution_count": null,
      "outputs": []
    },
    {
      "cell_type": "code",
      "source": [
        "# Hàm mục tiêu cho NCF: sử dụng MSE\n",
        "criterion = nn.MSELoss()\n",
        "autoencoder_optimizer = optim.Adam(autoencoder.parameters(), lr=0.001)\n",
        "ncf_optimizer = optim.Adam(ncf_mlp.parameters(), lr=0.001)"
      ],
      "metadata": {
        "id": "H6BSy7_3Tu6O"
      },
      "execution_count": null,
      "outputs": []
    },
    {
      "cell_type": "code",
      "source": [
        "# Huấn luyện mô hình Autoencoder\n",
        "def train_autoencoder():\n",
        "    autoencoder.train()\n",
        "    train_loss = 0\n",
        "    for user, movie, rating in train_loader:\n",
        "        user = user.long()\n",
        "        movie = movie.long()\n",
        "        autoencoder_optimizer.zero_grad()\n",
        "        output = autoencoder(user, movie)\n",
        "        loss = criterion(output.view(-1), rating)\n",
        "        loss.backward()\n",
        "        autoencoder_optimizer.step()\n",
        "        train_loss += loss.item()\n",
        "    return train_loss / len(train_loader)"
      ],
      "metadata": {
        "id": "BQ2KOAOu-xlS"
      },
      "execution_count": null,
      "outputs": []
    },
    {
      "cell_type": "code",
      "source": [
        "# Hàm huấn luyện cho mô hình MLP\n",
        "def train_ncf_mlp():\n",
        "    ncf_mlp.train()\n",
        "    train_loss = 0\n",
        "    for user, movie, rating in train_loader:\n",
        "        user = user.long()\n",
        "        movie = movie.long()\n",
        "        ncf_optimizer.zero_grad()\n",
        "        output = ncf_mlp(user, movie)\n",
        "        loss = criterion(output.view(-1), rating)\n",
        "        loss.backward()\n",
        "        ncf_optimizer.step()\n",
        "        train_loss += loss.item()\n",
        "    return train_loss / len(train_loader)\n"
      ],
      "metadata": {
        "id": "E1PQkDu--ykA"
      },
      "execution_count": null,
      "outputs": []
    },
    {
      "cell_type": "code",
      "source": [
        "# Huấn luyện và đánh giá\n",
        "for epoch in range(10):\n",
        "    autoencoder_loss = train_autoencoder()\n",
        "    ncf_mlp_loss= train_ncf_mlp()\n",
        "    print(f'Epoch {epoch+1}: Autoencoder Loss: {autoencoder_loss:.4f}, NCF_MLP Loss: {ncf_mlp_loss:.4f}')"
      ],
      "metadata": {
        "colab": {
          "base_uri": "https://localhost:8080/"
        },
        "id": "Jqmex0Wp-3nD",
        "outputId": "f4f78575-6538-416c-8bb7-da47126161c2"
      },
      "execution_count": null,
      "outputs": [
        {
          "output_type": "stream",
          "name": "stdout",
          "text": [
            "Epoch 1: Autoencoder Loss: 1.3953, NCF_MLP Loss: 1.4180\n",
            "Epoch 2: Autoencoder Loss: 0.8515, NCF_MLP Loss: 0.8496\n",
            "Epoch 3: Autoencoder Loss: 0.7909, NCF_MLP Loss: 0.7867\n",
            "Epoch 4: Autoencoder Loss: 0.7503, NCF_MLP Loss: 0.7475\n",
            "Epoch 5: Autoencoder Loss: 0.7206, NCF_MLP Loss: 0.7154\n",
            "Epoch 6: Autoencoder Loss: 0.6977, NCF_MLP Loss: 0.6892\n",
            "Epoch 7: Autoencoder Loss: 0.6683, NCF_MLP Loss: 0.6664\n",
            "Epoch 8: Autoencoder Loss: 0.6439, NCF_MLP Loss: 0.6469\n",
            "Epoch 9: Autoencoder Loss: 0.6261, NCF_MLP Loss: 0.6313\n",
            "Epoch 10: Autoencoder Loss: 0.6091, NCF_MLP Loss: 0.6124\n"
          ]
        }
      ]
    },
    {
      "cell_type": "markdown",
      "source": [
        "# Metrics RMSE & MAE"
      ],
      "metadata": {
        "id": "iRM235UZ6u0a"
      }
    },
    {
      "cell_type": "code",
      "source": [
        "def evaluate_model(model, dataloader):\n",
        "    model.eval()\n",
        "    predictions = []\n",
        "    actuals = []\n",
        "    with torch.no_grad():\n",
        "        for user, movie, rating in dataloader:\n",
        "            user = user.long()\n",
        "            movie = movie.long()\n",
        "            output = model(user, movie)\n",
        "            predictions.extend(output.numpy().flatten())\n",
        "            actuals.extend(rating.numpy().flatten())\n",
        "\n",
        "    # Tính toán RMSE và MAE\n",
        "    mse = mean_squared_error(actuals, predictions)\n",
        "    rmse = np.sqrt(mse)\n",
        "    mae = mean_absolute_error(actuals, predictions)\n",
        "\n",
        "    return rmse, mae"
      ],
      "metadata": {
        "id": "Ta1iPgWX_gSV"
      },
      "execution_count": null,
      "outputs": []
    },
    {
      "cell_type": "code",
      "source": [
        "autoencoder_rmse, autoencoder_mae = evaluate_model(autoencoder, test_loader)\n",
        "ncf_rmse, ncf_mae = evaluate_model(ncf_mlp, test_loader)\n",
        "\n",
        "print(f'Autoencoder RMSE: {autoencoder_rmse:.4f}, MAE: {autoencoder_mae:.4f}')\n",
        "print(f'NCF_MLP RMSE: {ncf_rmse:.4f}, MAE: {ncf_mae:.4f}')"
      ],
      "metadata": {
        "colab": {
          "base_uri": "https://localhost:8080/"
        },
        "id": "1PDrkMu2_hVn",
        "outputId": "a42d6a24-72f2-47c4-f865-3c354393bee7"
      },
      "execution_count": null,
      "outputs": [
        {
          "output_type": "stream",
          "name": "stdout",
          "text": [
            "Autoencoder RMSE: 0.9242, MAE: 0.7219\n",
            "NCF_MLP RMSE: 0.9100, MAE: 0.7056\n"
          ]
        }
      ]
    },
    {
      "cell_type": "markdown",
      "source": [
        "# Cosine similarity"
      ],
      "metadata": {
        "id": "rHictPxu7T21"
      }
    },
    {
      "cell_type": "code",
      "source": [
        "# Hàm tính cosine similarity giữa các embeddings\n",
        "def cosine_similarity_matrix(embeddings):\n",
        "    # Chuẩn hóa embeddings về độ dài đơn vị\n",
        "    embeddings = F.normalize(embeddings, p=2, dim=1)\n",
        "    # Nhân ma trận embeddings với chính nó (transpose) để lấy cosine similarity\n",
        "    similarity_matrix = torch.mm(embeddings, embeddings.t())\n",
        "    return similarity_matrix"
      ],
      "metadata": {
        "id": "rdR9oAvg7XmX"
      },
      "execution_count": null,
      "outputs": []
    },
    {
      "cell_type": "code",
      "source": [
        "# Hàm tính similarity cho tất cả các movie\n",
        "def calculate_movie_similarity(model, num_movies):\n",
        "    model.eval()\n",
        "    with torch.no_grad():\n",
        "        # Lấy movie embeddings\n",
        "        movie_embeddings = model.movie_embedding.weight\n",
        "        # Tính ma trận cosine similarity\n",
        "        similarity_matrix = cosine_similarity_matrix(movie_embeddings)\n",
        "\n",
        "    # Chuyển đổi ma trận thành numpy array để dễ xử lý và lưu trữ\n",
        "    similarity_matrix_np = similarity_matrix.cpu().numpy()\n",
        "    return similarity_matrix_np"
      ],
      "metadata": {
        "id": "kyatdSM57cM4"
      },
      "execution_count": null,
      "outputs": []
    },
    {
      "cell_type": "code",
      "source": [
        "# Tính toán độ tương đồng giữa các phim\n",
        "movie_similarity_matrix = calculate_movie_similarity(ncf_mlp, num_movies)\n",
        "\n",
        "# Chuyển ma trận similarity thành DataFrame\n",
        "movie_similarity_df = pd.DataFrame(movie_similarity_matrix, index=movie_ids, columns=movie_ids)"
      ],
      "metadata": {
        "id": "HZP9uC4y7d-i"
      },
      "execution_count": null,
      "outputs": []
    },
    {
      "cell_type": "markdown",
      "source": [
        "# Hàm gợi ý phim"
      ],
      "metadata": {
        "id": "nNd_GmnX60Mt"
      }
    },
    {
      "cell_type": "code",
      "source": [
        "# Hàm gợi ý phim cho một người dùng cụ thể\n",
        "def recommend_similar_movies(movie_id, num_recommendations=10):\n",
        "    if movie_id not in movie_ids:\n",
        "        raise ValueError(f\"Movie ID {movie_id} không hợp lệ.\")\n",
        "\n",
        "    movie_idx = movie_id_to_index[movie_id]\n",
        "    movie_similarities = movie_similarity_matrix[movie_idx]\n",
        "\n",
        "    # Lấy các phim có độ tương đồng cao nhất\n",
        "    top_movie_indices = movie_similarities.argsort()[-num_recommendations-1:-1][::-1]\n",
        "    recommended_movie_ids = [movie_ids[i] for i in top_movie_indices]\n",
        "\n",
        "    # Ánh xạ ID phim ra tên phim\n",
        "    movie_id_to_title = dict(zip(movies['movieId'], movies['title']))\n",
        "    recommended_movie_titles = [movie_id_to_title.get(movie_id, \"Unknown\") for movie_id in recommended_movie_ids]\n",
        "\n",
        "    return recommended_movie_titles"
      ],
      "metadata": {
        "id": "SVAmLg2qJ61E"
      },
      "execution_count": null,
      "outputs": []
    },
    {
      "cell_type": "code",
      "source": [
        "# Gợi ý phim tương tự cho một bộ phim cụ thể\n",
        "movie_id = 99  # ID phim mà bạn muốn gợi ý các phim tương tự\n",
        "similar_movies = recommend_similar_movies(movie_id)\n",
        "\n",
        "print(f\"Gợi ý phim tương tự cho Movie ID {movie_id}:\")\n",
        "for movie in similar_movies:\n",
        "    print(f\"- {movie}\")"
      ],
      "metadata": {
        "colab": {
          "base_uri": "https://localhost:8080/"
        },
        "id": "g4WfVI2yRJCi",
        "outputId": "204b2c29-57ba-434d-c06d-b4d92013cf73"
      },
      "execution_count": null,
      "outputs": [
        {
          "output_type": "stream",
          "name": "stdout",
          "text": [
            "Gợi ý phim cho User ID 10:\n",
            "- Bikini Beach (1964)\n",
            "- Whiplash (2013)\n",
            "- Freshman, The (1925)\n",
            "- Ghost in the Shell 2.0 (2008)\n",
            "- Born Free (1966)\n",
            "- Eddie Murphy Raw (1987)\n",
            "- Breaking the Waves (1996)\n",
            "- Muscle Beach Party (1964)\n",
            "- I Wish (Kiseki) (2011)\n",
            "- Kaboom (2010)\n"
          ]
        }
      ]
    },
    {
      "cell_type": "code",
      "source": [
        "file_path = '/content/drive/My Drive/Project4_Trần Đức Long_124211/movie_similarity_real.pkl'\n",
        "\n",
        "# Lưu DataFrame vào file .pkl\n",
        "movie_similarity_df.to_pickle(file_path)\n",
        "\n",
        "print(\"Đã lưu ma trận similarity vào file .pkl.\")"
      ],
      "metadata": {
        "id": "kFWZ80tK7kwI"
      },
      "execution_count": null,
      "outputs": []
    },
    {
      "cell_type": "code",
      "source": [
        "# Lưu mô hình Autoencoder\n",
        "torch.save(autoencoder.state_dict(), '/content/drive/My Drive/Project4_Trần Đức Long_124211/autoencoder_model_real.pth')\n",
        "\n",
        "# Lưu mô hình NCF_MLP\n",
        "torch.save(ncf_mlp.state_dict(), '/content/drive/My Drive/Project4_Trần Đức Long_124211/ncf_mlp_model_real.pth')"
      ],
      "metadata": {
        "id": "Q6axauAT7pxc"
      },
      "execution_count": null,
      "outputs": []
    },
    {
      "cell_type": "code",
      "source": [
        "file_path = '/content/drive/My Drive/Project4_Trần Đức Long_124211/data_real.pkl'\n",
        "\n",
        "# Lưu DataFrame vào file .pkl\n",
        "data.to_pickle(file_path)\n",
        "\n",
        "print(\"Đã lưu ma trận similarity vào file .pkl.\")"
      ],
      "metadata": {
        "id": "L1BZGpkH7wsU"
      },
      "execution_count": null,
      "outputs": []
    },
    {
      "cell_type": "markdown",
      "source": [
        "- Autoencoder RMSE: 0.9242, MAE: 0.7219\n",
        "- NCF_MLP RMSE: 0.9100, MAE: 0.7056"
      ],
      "metadata": {
        "id": "EpPqygheCjYn"
      }
    },
    {
      "cell_type": "markdown",
      "source": [
        "Dataset: https://www.kaggle.com/datasets/garymk/movielens-25m-dataset/data"
      ],
      "metadata": {
        "id": "O88Ctr_27uY9"
      }
    }
  ]
}