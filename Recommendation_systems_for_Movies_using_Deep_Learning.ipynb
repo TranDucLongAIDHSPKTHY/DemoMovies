{
  "nbformat": 4,
  "nbformat_minor": 0,
  "metadata": {
    "colab": {
      "provenance": [],
      "authorship_tag": "ABX9TyMXwWli8CEHJj7UyLymOTrT",
      "include_colab_link": true
    },
    "kernelspec": {
      "name": "python3",
      "display_name": "Python 3"
    },
    "language_info": {
      "name": "python"
    }
  },
  "cells": [
    {
      "cell_type": "markdown",
      "metadata": {
        "id": "view-in-github",
        "colab_type": "text"
      },
      "source": [
        "<a href=\"https://colab.research.google.com/github/TranDucLongAIDHSPKTHY/DemoMovies/blob/main/Recommendation_systems_for_Movies_using_Deep_Learning.ipynb\" target=\"_parent\"><img src=\"https://colab.research.google.com/assets/colab-badge.svg\" alt=\"Open In Colab\"/></a>"
      ]
    },
    {
      "cell_type": "code",
      "execution_count": 443,
      "metadata": {
        "id": "U2lzh1vbIJ3X"
      },
      "outputs": [],
      "source": [
        "import pandas as pd\n",
        "import numpy as np\n",
        "import torch\n",
        "import torch.nn as nn\n",
        "import torch.optim as optim\n",
        "from sklearn.model_selection import train_test_split"
      ]
    },
    {
      "cell_type": "code",
      "source": [
        "from google.colab import drive\n",
        "import matplotlib.pyplot as plt\n",
        "import seaborn as sns"
      ],
      "metadata": {
        "id": "nsDbpcI9JS8-"
      },
      "execution_count": 444,
      "outputs": []
    },
    {
      "cell_type": "code",
      "source": [
        "drive.mount('/content/drive')"
      ],
      "metadata": {
        "colab": {
          "base_uri": "https://localhost:8080/"
        },
        "id": "Xpd8hjjlPQUK",
        "outputId": "15378e89-fdf8-4a73-eb17-ac5f5886094e"
      },
      "execution_count": 445,
      "outputs": [
        {
          "output_type": "stream",
          "name": "stdout",
          "text": [
            "Drive already mounted at /content/drive; to attempt to forcibly remount, call drive.mount(\"/content/drive\", force_remount=True).\n"
          ]
        }
      ]
    },
    {
      "cell_type": "code",
      "source": [
        "ratings = pd.read_csv('/content/drive/My Drive/Project4_Trần Đức Long_124211/DL_Movies/ratings_small.csv')\n",
        "movies = pd.read_csv('/content/drive/My Drive/Project4_Trần Đức Long_124211/DL_Movies/movies_small.csv')\n",
        "credits = pd.read_csv('/content/drive/My Drive/Project4_Trần Đức Long_124211/DL_Movies/credits_small.csv')"
      ],
      "metadata": {
        "id": "iAGiTslHILFi"
      },
      "execution_count": 446,
      "outputs": []
    },
    {
      "cell_type": "code",
      "source": [
        "# Kết hợp dữ liệu movies và credits dựa trên cột \"id\" và \"movie_id\"\n",
        "merged = pd.merge(movies, credits, left_on='id', right_on='movie_id')"
      ],
      "metadata": {
        "id": "nAPM7noyILIO"
      },
      "execution_count": 447,
      "outputs": []
    },
    {
      "cell_type": "code",
      "source": [
        "# Tạo từ điển chứa movie_id và tiêu đề của phim từ dataset đã kết hợp\n",
        "movie_id_to_title = dict(zip(merged['id'], merged['title_x']))"
      ],
      "metadata": {
        "id": "e_Upxo3jPauC"
      },
      "execution_count": 448,
      "outputs": []
    },
    {
      "cell_type": "code",
      "source": [
        "# Chỉ giữ lại các movie_id trong file ratings có trong dataset đã kết hợp\n",
        "matched_ratings = ratings[ratings['movieId'].isin(merged['id'])].copy()"
      ],
      "metadata": {
        "id": "Xo76SgYEPchO"
      },
      "execution_count": 449,
      "outputs": []
    },
    {
      "cell_type": "code",
      "source": [
        "# Trích xuất các user_id và movie_id duy nhất\n",
        "user_ids = matched_ratings['userId'].unique().tolist()\n",
        "movie_ids = matched_ratings['movieId'].unique().tolist()"
      ],
      "metadata": {
        "id": "ZauL0pn-ILLF"
      },
      "execution_count": 452,
      "outputs": []
    },
    {
      "cell_type": "code",
      "source": [
        "# Đánh chỉ số cho user_id và movie_id\n",
        "user_id_to_index = {x: i for i, x in enumerate(user_ids)}\n",
        "movie_id_to_index = {x: i for i, x in enumerate(movie_ids)}"
      ],
      "metadata": {
        "id": "mzYzZKq_ILNu"
      },
      "execution_count": 453,
      "outputs": []
    },
    {
      "cell_type": "code",
      "source": [
        "# Thay thế user_id và movie_id bằng các chỉ số\n",
        "matched_ratings['userId'] = matched_ratings['userId'].map(user_id_to_index)\n",
        "matched_ratings['movieId'] = matched_ratings['movieId'].map(movie_id_to_index)"
      ],
      "metadata": {
        "id": "1fk3-3JKPlVL"
      },
      "execution_count": 454,
      "outputs": []
    },
    {
      "cell_type": "code",
      "source": [
        "import matplotlib.pyplot as plt\n",
        "import seaborn as sns"
      ],
      "metadata": {
        "id": "VbkdSrQhPmGe"
      },
      "execution_count": 455,
      "outputs": []
    },
    {
      "cell_type": "code",
      "source": [
        "#Biểu đồ phân phối xếp hạng của các bộ phim\n",
        "plt.figure(figsize=(10, 6))\n",
        "sns.countplot(data=matched_ratings, x='rating', palette='viridis')\n",
        "plt.title('Phân phối các xếp hạng')\n",
        "plt.xlabel('Xếp hạng')\n",
        "plt.ylabel('Số lượng')\n",
        "plt.show()"
      ],
      "metadata": {
        "colab": {
          "base_uri": "https://localhost:8080/",
          "height": 692
        },
        "id": "DArqzjQQPmCK",
        "outputId": "77c3f42e-6cf6-4117-9e37-e2db705dca2b"
      },
      "execution_count": 456,
      "outputs": [
        {
          "output_type": "stream",
          "name": "stderr",
          "text": [
            "<ipython-input-456-fc62f7211199>:3: FutureWarning:\n",
            "\n",
            "\n",
            "\n",
            "Passing `palette` without assigning `hue` is deprecated and will be removed in v0.14.0. Assign the `x` variable to `hue` and set `legend=False` for the same effect.\n",
            "\n",
            "\n"
          ]
        },
        {
          "output_type": "display_data",
          "data": {
            "text/plain": [
              "<Figure size 1000x600 with 1 Axes>"
            ],
            "image/png": "[encoded data removed]"
          },
          "metadata": {}
        }
      ]
    },
    {
      "cell_type": "code",
      "source": [
        "# Tính trung bình xếp hạng cho mỗi phim\n",
        "average_rating_per_movie = matched_ratings.groupby('movieId')['rating'].mean()\n",
        "plt.figure(figsize=(10, 6))\n",
        "sns.histplot(average_rating_per_movie, bins=50, kde=True)\n",
        "plt.title('Xếp hạng trung bình mỗi phim')\n",
        "plt.xlabel('Xếp hạng trung bình')\n",
        "plt.ylabel('Số lượng')\n",
        "plt.show()"
      ],
      "metadata": {
        "colab": {
          "base_uri": "https://localhost:8080/",
          "height": 562
        },
        "id": "dXtX06dsILQM",
        "outputId": "ab8a279d-c261-4d7e-f4ff-8df94265b752"
      },
      "execution_count": 457,
      "outputs": [
        {
          "output_type": "display_data",
          "data": {
            "text/plain": [
              "<Figure size 1000x600 with 1 Axes>"
            ],
            "image/png": "[encoded data removed]"
          },
          "metadata": {}
        }
      ]
    },
    {
      "cell_type": "code",
      "source": [
        "train, test = train_test_split(matched_ratings, test_size=0.2, random_state=42)"
      ],
      "metadata": {
        "id": "fOJ8GqbNILSy"
      },
      "execution_count": 458,
      "outputs": []
    },
    {
      "cell_type": "code",
      "source": [
        "# Định nghĩa dataset cho PyTorch\n",
        "class RatingsDataset(torch.utils.data.Dataset):\n",
        "    def __init__(self, ratings):\n",
        "        self.ratings = ratings\n",
        "\n",
        "    def __len__(self):\n",
        "        return len(self.ratings)\n",
        "\n",
        "    def __getitem__(self, idx):\n",
        "        user = self.ratings.iloc[idx, 0]  # Lấy user\n",
        "        movie = self.ratings.iloc[idx, 1]  # Lấy movie\n",
        "        rating = self.ratings.iloc[idx, 2]  # Lấy rating\n",
        "        return torch.tensor(user), torch.tensor(movie), torch.tensor(rating, dtype=torch.float32)"
      ],
      "metadata": {
        "id": "l082eFfXJxbu"
      },
      "execution_count": 459,
      "outputs": []
    },
    {
      "cell_type": "code",
      "source": [
        "# Tạo dataset cho train và test\n",
        "train_dataset = RatingsDataset(train)\n",
        "test_dataset = RatingsDataset(test)"
      ],
      "metadata": {
        "id": "2-F1es8ZP0lv"
      },
      "execution_count": 461,
      "outputs": []
    },
    {
      "cell_type": "code",
      "source": [
        "# Tạo DataLoader để lấy các batch dữ liệu\n",
        "train_loader = torch.utils.data.DataLoader(train_dataset, batch_size=64, shuffle=True)\n",
        "test_loader = torch.utils.data.DataLoader(test_dataset, batch_size=64, shuffle=False)"
      ],
      "metadata": {
        "id": "xgyt7ACKP2vK"
      },
      "execution_count": 462,
      "outputs": []
    },
    {
      "cell_type": "code",
      "source": [
        "# Định nghĩa mô hình mạng nơ-ron NFC (Neural Fully Connected)\n",
        "class RecommenderNet(nn.Module):\n",
        "    def __init__(self, num_users, num_movies, embedding_size=100):\n",
        "        super(RecommenderNet, self).__init__()\n",
        "        self.user_embedding = nn.Embedding(num_users, embedding_size)  # Embedding cho user\n",
        "        self.movie_embedding = nn.Embedding(num_movies, embedding_size)  # Embedding cho movie\n",
        "        self.fc1 = nn.Linear(embedding_size * 2, 256)  # Lớp fully connected đầu tiên\n",
        "        self.fc2 = nn.Linear(256, 128)  # Lớp fully connected thứ hai\n",
        "        self.fc3 = nn.Linear(128, 64)  # Lớp fully connected thứ ba\n",
        "        self.fc4 = nn.Linear(64, 1)  # Lớp fully connected cuối cùng\n",
        "\n",
        "    def forward(self, user, movie):\n",
        "        user_embedded = self.user_embedding(user)  # Biểu diễn embedding cho user\n",
        "        movie_embedded = self.movie_embedding(movie)  # Biểu diễn embedding cho movie\n",
        "        x = torch.cat([user_embedded, movie_embedded], dim=1)  # Kết hợp embedding của user và movie\n",
        "        x = torch.relu(self.fc1(x))  # Kích hoạt ReLU sau lớp fully connected 1\n",
        "        x = torch.relu(self.fc2(x))  # Kích hoạt ReLU sau lớp fully connected 2\n",
        "        x = torch.relu(self.fc3(x))  # Kích hoạt ReLU sau lớp fully connected 3\n",
        "        x = self.fc4(x)  # Dự đoán xếp hạng\n",
        "        return x"
      ],
      "metadata": {
        "id": "gyIcdUnwJxZ1"
      },
      "execution_count": 463,
      "outputs": []
    },
    {
      "cell_type": "code",
      "source": [
        "# Khởi tạo mô hình với số lượng user và movie\n",
        "num_users = len(user_ids)\n",
        "num_movies = len(movie_ids)\n",
        "embedding_size = 100"
      ],
      "metadata": {
        "id": "xMA3LQv_QK9L"
      },
      "execution_count": 464,
      "outputs": []
    },
    {
      "cell_type": "code",
      "source": [
        "# Tạo mô hình RecommenderNet\n",
        "model = RecommenderNet(num_users, num_movies, embedding_size)\n",
        "criterion = nn.MSELoss()  # Hàm loss sử dụng MSE\n",
        "optimizer = optim.Adam(model.parameters(), lr=0.001)  # Sử dụng optimizer Adam"
      ],
      "metadata": {
        "id": "8VU2EjFKQN_W"
      },
      "execution_count": 465,
      "outputs": []
    },
    {
      "cell_type": "code",
      "source": [
        "# Huấn luyện mô hình\n",
        "num_epochs = 10"
      ],
      "metadata": {
        "id": "RtFjsjb3QX2z"
      },
      "execution_count": 467,
      "outputs": []
    },
    {
      "cell_type": "code",
      "source": [
        "for epoch in range(num_epochs):\n",
        "    model.train()  # Đặt chế độ training cho mô hình\n",
        "    train_loss = 0\n",
        "    for user, movie, rating in train_loader:\n",
        "        optimizer.zero_grad()  # Đặt lại gradient về 0\n",
        "        output = model(user, movie)  # Dự đoán xếp hạng\n",
        "        loss = criterion(output, rating.view(-1, 1))  # Tính toán loss\n",
        "        loss.backward()  # Backpropagation\n",
        "        optimizer.step()  # Cập nhật các tham số\n",
        "        train_loss += loss.item()\n",
        "\n",
        "    train_loss /= len(train_loader)  # Tính trung bình loss cho mỗi epoch\n",
        "    print(f'Epoch {epoch+1}/{num_epochs}, Training Loss: {train_loss:.4f}')"
      ],
      "metadata": {
        "colab": {
          "base_uri": "https://localhost:8080/"
        },
        "id": "3rOv0ZFPJxXQ",
        "outputId": "f250b80a-cfc7-4893-b854-09b8fc08491a"
      },
      "execution_count": 468,
      "outputs": [
        {
          "output_type": "stream",
          "name": "stdout",
          "text": [
            "Epoch 1/10, Training Loss: 1.4253\n",
            "Epoch 2/10, Training Loss: 0.8241\n",
            "Epoch 3/10, Training Loss: 0.7321\n",
            "Epoch 4/10, Training Loss: 0.6711\n",
            "Epoch 5/10, Training Loss: 0.6147\n",
            "Epoch 6/10, Training Loss: 0.5657\n",
            "Epoch 7/10, Training Loss: 0.5268\n",
            "Epoch 8/10, Training Loss: 0.4978\n",
            "Epoch 9/10, Training Loss: 0.4530\n",
            "Epoch 10/10, Training Loss: 0.4171\n"
          ]
        }
      ]
    },
    {
      "cell_type": "code",
      "source": [
        "# Lưu mô hình sau khi huấn luyện\n",
        "torch.save(model.state_dict(), 'model_weights.pth')"
      ],
      "metadata": {
        "id": "2S3lexI2J636"
      },
      "execution_count": 469,
      "outputs": []
    },
    {
      "cell_type": "code",
      "source": [
        "# Tải mô hình đã lưu\n",
        "model.load_state_dict(torch.load('model_weights.pth'))\n",
        "model.eval()  # Đặt mô hình vào chế độ evaluation"
      ],
      "metadata": {
        "colab": {
          "base_uri": "https://localhost:8080/"
        },
        "id": "CUq3ZLrLRCiu",
        "outputId": "90e72c75-0174-4277-9b45-92339c93c932"
      },
      "execution_count": 470,
      "outputs": [
        {
          "output_type": "stream",
          "name": "stderr",
          "text": [
            "<ipython-input-470-f239c780f362>:2: FutureWarning:\n",
            "\n",
            "You are using `torch.load` with `weights_only=False` (the current default value), which uses the default pickle module implicitly. It is possible to construct malicious pickle data which will execute arbitrary code during unpickling (See https://github.com/pytorch/pytorch/blob/main/SECURITY.md#untrusted-models for more details). In a future release, the default value for `weights_only` will be flipped to `True`. This limits the functions that could be executed during unpickling. Arbitrary objects will no longer be allowed to be loaded via this mode unless they are explicitly allowlisted by the user via `torch.serialization.add_safe_globals`. We recommend you start setting `weights_only=True` for any use case where you don't have full control of the loaded file. Please open an issue on GitHub for any issues related to this experimental feature.\n",
            "\n"
          ]
        },
        {
          "output_type": "execute_result",
          "data": {
            "text/plain": [
              "RecommenderNet(\n",
              "  (user_embedding): Embedding(670, 100)\n",
              "  (movie_embedding): Embedding(857, 100)\n",
              "  (fc1): Linear(in_features=200, out_features=256, bias=True)\n",
              "  (fc2): Linear(in_features=256, out_features=128, bias=True)\n",
              "  (fc3): Linear(in_features=128, out_features=64, bias=True)\n",
              "  (fc4): Linear(in_features=64, out_features=1, bias=True)\n",
              ")"
            ]
          },
          "metadata": {},
          "execution_count": 470
        }
      ]
    },
    {
      "cell_type": "code",
      "source": [
        "# Hàm gợi ý phim cho một người dùng cụ thể\n",
        "def recommend_movies(user_id, num_recommendations=10):\n",
        "    user_idx = user_id_to_index[user_id]  # Lấy chỉ số của user\n",
        "    user_tensor = torch.tensor([user_idx] * num_movies)  # Tạo tensor user\n",
        "    movie_tensor = torch.tensor(np.arange(num_movies))  # Tạo tensor movie\n",
        "\n",
        "    model.eval()\n",
        "    with torch.no_grad():\n",
        "        scores = model(user_tensor, movie_tensor).numpy().flatten()  # Dự đoán điểm cho từng movie\n",
        "\n",
        "    top_movie_indices = scores.argsort()[-num_recommendations:][::-1]  # Lấy các movie có điểm cao nhất\n",
        "    recommended_movie_titles = [movie_id_to_title.get(movie_ids[i], \"Unknown\") for i in top_movie_indices]\n",
        "\n",
        "    return recommended_movie_titles"
      ],
      "metadata": {
        "id": "SVAmLg2qJ61E"
      },
      "execution_count": 474,
      "outputs": []
    },
    {
      "cell_type": "code",
      "source": [
        "# Ví dụ gợi ý phim cho user_id = 10\n",
        "user_id = 10\n",
        "recommended_movies = recommend_movies(user_id)\n",
        "print(\"Các phim được gợi ý:\", recommended_movies)"
      ],
      "metadata": {
        "colab": {
          "base_uri": "https://localhost:8080/"
        },
        "id": "g4WfVI2yRJCi",
        "outputId": "6d513398-fc3e-47e1-e3c4-69867c20b5a2"
      },
      "execution_count": 475,
      "outputs": [
        {
          "output_type": "stream",
          "name": "stdout",
          "text": [
            "Các phim được gợi ý: ['Bowling for Columbine', 'Match Point', 'The Hunt for Red October', 'Mission: Impossible', 'Orgazmo', 'Galaxy Quest', 'You, Me and Dupree', 'Aliens', 'Akira', 'License to Wed']\n"
          ]
        }
      ]
    },
    {
      "cell_type": "code",
      "source": [
        "# Đánh giá mô hình bằng các chỉ số RMSE và MAE\n",
        "from sklearn.metrics import mean_squared_error, mean_absolute_error\n",
        "\n",
        "model.eval()\n",
        "predictions = []\n",
        "actuals = []\n",
        "\n",
        "with torch.no_grad():\n",
        "    for user, movie, rating in test_loader:\n",
        "        output = model(user, movie)  # Dự đoán xếp hạng\n",
        "        predictions.extend(output.numpy().flatten())  # Lưu lại dự đoán\n",
        "        actuals.extend(rating.numpy().flatten())  # Lưu lại giá trị thực"
      ],
      "metadata": {
        "id": "GDi-q1fUJ6yb"
      },
      "execution_count": 478,
      "outputs": []
    },
    {
      "cell_type": "code",
      "source": [
        "# Tính toán RMSE và MAE\n",
        "mse = mean_squared_error(actuals, predictions)\n",
        "rmse = np.sqrt(mse)\n",
        "mae = mean_absolute_error(actuals, predictions)"
      ],
      "metadata": {
        "id": "91J-d9i9RQ02"
      },
      "execution_count": 479,
      "outputs": []
    },
    {
      "cell_type": "code",
      "source": [
        "print(f'RMSE: {rmse}')\n",
        "print(f'MAE: {mae}')"
      ],
      "metadata": {
        "colab": {
          "base_uri": "https://localhost:8080/"
        },
        "id": "dA7aMxdiRSxZ",
        "outputId": "fa695b86-0e7d-4e50-f502-0f47fa5eadc4"
      },
      "execution_count": 480,
      "outputs": [
        {
          "output_type": "stream",
          "name": "stdout",
          "text": [
            "RMSE: 0.9859734177589417\n",
            "MAE: 0.7653394937515259\n"
          ]
        }
      ]
    },
    {
      "cell_type": "code",
      "source": [
        "import numpy as np\n",
        "import torch\n",
        "\n",
        "def recommend_movies_for_user(user_id, num_recommendations=50):\n",
        "    \"\"\"\n",
        "    Hàm gợi ý phim cho một người dùng cụ thể.\n",
        "\n",
        "    Args:\n",
        "        user_id: ID của người dùng.\n",
        "        num_recommendations: Số lượng phim được gợi ý.\n",
        "\n",
        "    Returns:\n",
        "        Một danh sách các tựa phim được gợi ý.\n",
        "    \"\"\"\n",
        "\n",
        "    if user_id not in user_id_to_index:\n",
        "        print(f\"Người dùng có ID {user_id} không tồn tại trong tập dữ liệu.\")\n",
        "        return []\n",
        "\n",
        "    user_idx = user_id_to_index[user_id]\n",
        "    user_tensor = torch.tensor([user_idx] * num_movies)\n",
        "    movie_tensor = torch.tensor(np.arange(num_movies))\n",
        "\n",
        "    model.eval()\n",
        "    with torch.no_grad():\n",
        "        scores = model(user_tensor, movie_tensor).numpy().flatten()\n",
        "\n",
        "    top_movie_indices = scores.argsort()[-num_recommendations:][::-1]\n",
        "    recommended_movie_titles = [movie_id_to_title.get(movie_ids[i], \"Unknown\") for i in top_movie_indices]\n",
        "\n",
        "    return recommended_movie_titles\n",
        "\n",
        "# Ví dụ sử dụng hàm gợi ý phim\n",
        "user_id_to_recommend = 1  # Thay đổi ID người dùng ở đây\n",
        "recommendations = recommend_movies_for_user(user_id_to_recommend)\n",
        "print(f\"Các phim được gợi ý cho người dùng {user_id_to_recommend}:\")\n",
        "for movie in recommendations:\n",
        "    print(f\"- {movie}\")\n"
      ],
      "metadata": {
        "colab": {
          "base_uri": "https://localhost:8080/"
        },
        "id": "Rq2vgSYjYcns",
        "outputId": "fcb39c1c-bb38-4ea1-ddef-a8d9bf5a1af8"
      },
      "execution_count": 481,
      "outputs": [
        {
          "output_type": "stream",
          "name": "stdout",
          "text": [
            "Các phim được gợi ý cho người dùng 1:\n",
            "- Mission: Impossible\n",
            "- Bowling for Columbine\n",
            "- Along Came a Spider\n",
            "- On Her Majesty's Secret Service\n",
            "- Crank\n",
            "- Flags of Our Fathers\n",
            "- The Thirteenth Floor\n",
            "- Team America: World Police\n",
            "- Beverly Hills Cop III\n",
            "- Open Season\n",
            "- Terminator 3: Rise of the Machines\n",
            "- The Mask\n",
            "- Arlington Road\n",
            "- Closer\n",
            "- The Elephant Man\n",
            "- Raiders of the Lost Ark\n",
            "- Speed Racer\n",
            "- The Legend of Suriyothai\n",
            "- The Brothers Grimm\n",
            "- License to Wed\n",
            "- Army of Darkness\n",
            "- Captain America: The First Avenger\n",
            "- Gremlins 2: The New Batch\n",
            "- Cold Mountain\n",
            "- An Unfinished Life\n",
            "- JFK\n",
            "- Love in the Time of Cholera\n",
            "- Dawn of the Dead\n",
            "- Mystic River\n",
            "- Aliens\n",
            "- Akira\n",
            "- Beetlejuice\n",
            "- Knocked Up\n",
            "- Pandora's Box\n",
            "- Miss Congeniality\n",
            "- A Christmas Story\n",
            "- The Thomas Crown Affair\n",
            "- The Green Mile\n",
            "- Orgazmo\n",
            "- Match Point\n",
            "- Dear Frankie\n",
            "- Thumbsucker\n",
            "- Sunshine\n",
            "- Young Frankenstein\n",
            "- Solaris\n",
            "- I, Robot\n",
            "- The Shipping News\n",
            "- Rocky Balboa\n",
            "- The Good Thief\n",
            "- Memoirs of a Geisha\n"
          ]
        }
      ]
    },
    {
      "cell_type": "code",
      "source": [
        "# Hàm tính Precision@K và Recall@K\n",
        "def precision_at_k(predictions, ground_truth, k):\n",
        "    top_k_predictions = predictions.argsort()[-k:][::-1]  # Lấy k dự đoán hàng đầu\n",
        "    relevant_items = ground_truth.argsort()[-k:][::-1]  # Lấy k item thực sự\n",
        "    intersection = np.intersect1d(top_k_predictions, relevant_items)  # Lấy item đúng\n",
        "    return len(intersection) / k\n",
        "\n",
        "def recall_at_k(predictions, ground_truth, k):\n",
        "    top_k_predictions = predictions.argsort()[-k:][::-1]  # Lấy k dự đoán hàng đầu\n",
        "    relevant_items = ground_truth.argsort()[-k:][::-1]  # Lấy k item thực sự\n",
        "    intersection = np.intersect1d(top_k_predictions, relevant_items)  # Lấy item đúng\n",
        "    return len(intersection) / len(relevant_items)"
      ],
      "metadata": {
        "id": "hqUImoVhJ6vZ"
      },
      "execution_count": 482,
      "outputs": []
    },
    {
      "cell_type": "code",
      "source": [
        "k = 50\n",
        "precision_scores = []\n",
        "recall_scores = []"
      ],
      "metadata": {
        "id": "B-RxVC0BKQQ_"
      },
      "execution_count": 483,
      "outputs": []
    },
    {
      "cell_type": "code",
      "source": [
        "model.eval()\n",
        "with torch.no_grad():\n",
        "    for user, movie, rating in test_loader:\n",
        "        output = model(user, movie).numpy().flatten()\n",
        "        precision = precision_at_k(output, rating.numpy().flatten(), k)\n",
        "        recall = recall_at_k(output, rating.numpy().flatten(), k)\n",
        "        precision_scores.append(precision)\n",
        "        recall_scores.append(recall)\n",
        "\n",
        "average_precision = np.mean(precision_scores)\n",
        "average_recall = np.mean(recall_scores)"
      ],
      "metadata": {
        "id": "loIsJLMTSSnB"
      },
      "execution_count": 484,
      "outputs": []
    },
    {
      "cell_type": "code",
      "source": [
        "print(f'Precision@{k}: {average_precision}')\n",
        "print(f'Recall@{k}: {average_recall}')\n"
      ],
      "metadata": {
        "colab": {
          "base_uri": "https://localhost:8080/"
        },
        "id": "ESCtKU1kSTjG",
        "outputId": "14f13fdf-6115-4a21-dff2-b19e6dbe2ce6"
      },
      "execution_count": 345,
      "outputs": [
        {
          "output_type": "stream",
          "name": "stdout",
          "text": [
            "Precision@50: 0.5459999999999999\n",
            "Recall@50: 0.5773333333333334\n"
          ]
        }
      ]
    }
  ]
}